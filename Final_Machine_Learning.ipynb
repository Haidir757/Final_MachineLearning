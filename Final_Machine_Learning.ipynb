{
  "nbformat": 4,
  "nbformat_minor": 0,
  "metadata": {
    "colab": {
      "provenance": []
    },
    "kernelspec": {
      "name": "python3",
      "display_name": "Python 3"
    },
    "language_info": {
      "name": "python"
    }
  },
  "cells": [
    {
      "cell_type": "code",
      "execution_count": 160,
      "metadata": {
        "id": "b7d4vwnrwF0S"
      },
      "outputs": [],
      "source": [
        "import pandas as pd\n",
        "import numpy as np\n",
        "import matplotlib.pyplot as plt\n",
        "import seaborn as sns\n",
        "\n",
        "from sklearn.model_selection import train_test_split\n",
        "from sklearn.metrics import accuracy_score\n",
        "from sklearn.preprocessing import StandardScaler\n",
        "from sklearn.neighbors import KNeighborsClassifier\n",
        "\n",
        "from sklearn.metrics import confusion_matrix\n",
        "from sklearn.metrics import classification_report\n",
        "\n",
        "from sklearn.svm import SVC\n",
        "from sklearn.model_selection import GridSearchCV"
      ]
    },
    {
      "cell_type": "code",
      "source": [
        "data = pd.read_csv('applerevenue.csv')\n",
        "data.head()"
      ],
      "metadata": {
        "colab": {
          "base_uri": "https://localhost:8080/",
          "height": 206
        },
        "id": "KwzzQfEiFbbD",
        "outputId": "5caef3aa-ba13-488c-9bb4-bd3f54255462"
      },
      "execution_count": 161,
      "outputs": [
        {
          "output_type": "execute_result",
          "data": {
            "text/plain": [
              "         date    open    high     low   close     volume  profit or not\n",
              "0  12-12-1980  0.1003  0.1007  0.1003  0.1003  469033600              0\n",
              "1  15-12-1980  0.0955  0.0955  0.0951  0.0951  175884800              1\n",
              "2  16-12-1980  0.0885  0.0885  0.0881  0.0881  105728000              1\n",
              "3  17-12-1980  0.0902  0.0907  0.0902  0.0902   86441600              0\n",
              "4  18-12-1980  0.0929  0.0933  0.0929  0.0929   73449600              0"
            ],
            "text/html": [
              "\n",
              "  <div id=\"df-f4a39fbf-788e-4276-971a-b990daf90f1f\">\n",
              "    <div class=\"colab-df-container\">\n",
              "      <div>\n",
              "<style scoped>\n",
              "    .dataframe tbody tr th:only-of-type {\n",
              "        vertical-align: middle;\n",
              "    }\n",
              "\n",
              "    .dataframe tbody tr th {\n",
              "        vertical-align: top;\n",
              "    }\n",
              "\n",
              "    .dataframe thead th {\n",
              "        text-align: right;\n",
              "    }\n",
              "</style>\n",
              "<table border=\"1\" class=\"dataframe\">\n",
              "  <thead>\n",
              "    <tr style=\"text-align: right;\">\n",
              "      <th></th>\n",
              "      <th>date</th>\n",
              "      <th>open</th>\n",
              "      <th>high</th>\n",
              "      <th>low</th>\n",
              "      <th>close</th>\n",
              "      <th>volume</th>\n",
              "      <th>profit or not</th>\n",
              "    </tr>\n",
              "  </thead>\n",
              "  <tbody>\n",
              "    <tr>\n",
              "      <th>0</th>\n",
              "      <td>12-12-1980</td>\n",
              "      <td>0.1003</td>\n",
              "      <td>0.1007</td>\n",
              "      <td>0.1003</td>\n",
              "      <td>0.1003</td>\n",
              "      <td>469033600</td>\n",
              "      <td>0</td>\n",
              "    </tr>\n",
              "    <tr>\n",
              "      <th>1</th>\n",
              "      <td>15-12-1980</td>\n",
              "      <td>0.0955</td>\n",
              "      <td>0.0955</td>\n",
              "      <td>0.0951</td>\n",
              "      <td>0.0951</td>\n",
              "      <td>175884800</td>\n",
              "      <td>1</td>\n",
              "    </tr>\n",
              "    <tr>\n",
              "      <th>2</th>\n",
              "      <td>16-12-1980</td>\n",
              "      <td>0.0885</td>\n",
              "      <td>0.0885</td>\n",
              "      <td>0.0881</td>\n",
              "      <td>0.0881</td>\n",
              "      <td>105728000</td>\n",
              "      <td>1</td>\n",
              "    </tr>\n",
              "    <tr>\n",
              "      <th>3</th>\n",
              "      <td>17-12-1980</td>\n",
              "      <td>0.0902</td>\n",
              "      <td>0.0907</td>\n",
              "      <td>0.0902</td>\n",
              "      <td>0.0902</td>\n",
              "      <td>86441600</td>\n",
              "      <td>0</td>\n",
              "    </tr>\n",
              "    <tr>\n",
              "      <th>4</th>\n",
              "      <td>18-12-1980</td>\n",
              "      <td>0.0929</td>\n",
              "      <td>0.0933</td>\n",
              "      <td>0.0929</td>\n",
              "      <td>0.0929</td>\n",
              "      <td>73449600</td>\n",
              "      <td>0</td>\n",
              "    </tr>\n",
              "  </tbody>\n",
              "</table>\n",
              "</div>\n",
              "      <button class=\"colab-df-convert\" onclick=\"convertToInteractive('df-f4a39fbf-788e-4276-971a-b990daf90f1f')\"\n",
              "              title=\"Convert this dataframe to an interactive table.\"\n",
              "              style=\"display:none;\">\n",
              "        \n",
              "  <svg xmlns=\"http://www.w3.org/2000/svg\" height=\"24px\"viewBox=\"0 0 24 24\"\n",
              "       width=\"24px\">\n",
              "    <path d=\"M0 0h24v24H0V0z\" fill=\"none\"/>\n",
              "    <path d=\"M18.56 5.44l.94 2.06.94-2.06 2.06-.94-2.06-.94-.94-2.06-.94 2.06-2.06.94zm-11 1L8.5 8.5l.94-2.06 2.06-.94-2.06-.94L8.5 2.5l-.94 2.06-2.06.94zm10 10l.94 2.06.94-2.06 2.06-.94-2.06-.94-.94-2.06-.94 2.06-2.06.94z\"/><path d=\"M17.41 7.96l-1.37-1.37c-.4-.4-.92-.59-1.43-.59-.52 0-1.04.2-1.43.59L10.3 9.45l-7.72 7.72c-.78.78-.78 2.05 0 2.83L4 21.41c.39.39.9.59 1.41.59.51 0 1.02-.2 1.41-.59l7.78-7.78 2.81-2.81c.8-.78.8-2.07 0-2.86zM5.41 20L4 18.59l7.72-7.72 1.47 1.35L5.41 20z\"/>\n",
              "  </svg>\n",
              "      </button>\n",
              "      \n",
              "  <style>\n",
              "    .colab-df-container {\n",
              "      display:flex;\n",
              "      flex-wrap:wrap;\n",
              "      gap: 12px;\n",
              "    }\n",
              "\n",
              "    .colab-df-convert {\n",
              "      background-color: #E8F0FE;\n",
              "      border: none;\n",
              "      border-radius: 50%;\n",
              "      cursor: pointer;\n",
              "      display: none;\n",
              "      fill: #1967D2;\n",
              "      height: 32px;\n",
              "      padding: 0 0 0 0;\n",
              "      width: 32px;\n",
              "    }\n",
              "\n",
              "    .colab-df-convert:hover {\n",
              "      background-color: #E2EBFA;\n",
              "      box-shadow: 0px 1px 2px rgba(60, 64, 67, 0.3), 0px 1px 3px 1px rgba(60, 64, 67, 0.15);\n",
              "      fill: #174EA6;\n",
              "    }\n",
              "\n",
              "    [theme=dark] .colab-df-convert {\n",
              "      background-color: #3B4455;\n",
              "      fill: #D2E3FC;\n",
              "    }\n",
              "\n",
              "    [theme=dark] .colab-df-convert:hover {\n",
              "      background-color: #434B5C;\n",
              "      box-shadow: 0px 1px 3px 1px rgba(0, 0, 0, 0.15);\n",
              "      filter: drop-shadow(0px 1px 2px rgba(0, 0, 0, 0.3));\n",
              "      fill: #FFFFFF;\n",
              "    }\n",
              "  </style>\n",
              "\n",
              "      <script>\n",
              "        const buttonEl =\n",
              "          document.querySelector('#df-f4a39fbf-788e-4276-971a-b990daf90f1f button.colab-df-convert');\n",
              "        buttonEl.style.display =\n",
              "          google.colab.kernel.accessAllowed ? 'block' : 'none';\n",
              "\n",
              "        async function convertToInteractive(key) {\n",
              "          const element = document.querySelector('#df-f4a39fbf-788e-4276-971a-b990daf90f1f');\n",
              "          const dataTable =\n",
              "            await google.colab.kernel.invokeFunction('convertToInteractive',\n",
              "                                                     [key], {});\n",
              "          if (!dataTable) return;\n",
              "\n",
              "          const docLinkHtml = 'Like what you see? Visit the ' +\n",
              "            '<a target=\"_blank\" href=https://colab.research.google.com/notebooks/data_table.ipynb>data table notebook</a>'\n",
              "            + ' to learn more about interactive tables.';\n",
              "          element.innerHTML = '';\n",
              "          dataTable['output_type'] = 'display_data';\n",
              "          await google.colab.output.renderOutput(dataTable, element);\n",
              "          const docLink = document.createElement('div');\n",
              "          docLink.innerHTML = docLinkHtml;\n",
              "          element.appendChild(docLink);\n",
              "        }\n",
              "      </script>\n",
              "    </div>\n",
              "  </div>\n",
              "  "
            ]
          },
          "metadata": {},
          "execution_count": 161
        }
      ]
    },
    {
      "cell_type": "code",
      "source": [
        "data.describe()"
      ],
      "metadata": {
        "colab": {
          "base_uri": "https://localhost:8080/",
          "height": 300
        },
        "id": "qU8BvrsdFz7Y",
        "outputId": "90e49eb3-42d8-4626-8198-d534b5eaa944"
      },
      "execution_count": 162,
      "outputs": [
        {
          "output_type": "execute_result",
          "data": {
            "text/plain": [
              "               open          high           low         close        volume  \\\n",
              "count  10559.000000  10559.000000  10559.000000  10559.000000  1.055900e+04   \n",
              "mean      15.308827     15.483090     15.139373     15.318012  3.263275e+08   \n",
              "std       33.973113     34.385796     33.580974     34.000790  3.201156e+08   \n",
              "min        0.038800      0.038800      0.038400      0.038400  1.001504e+06   \n",
              "25%        0.236800      0.242500      0.231650      0.236900  1.219792e+08   \n",
              "50%        0.400200      0.406600      0.393000      0.399300  2.159780e+08   \n",
              "75%       13.652700     13.783300     13.504000     13.647150  4.074518e+08   \n",
              "max      181.877900    182.186600    178.382400    181.260500  2.147484e+09   \n",
              "\n",
              "       profit or not  \n",
              "count   10559.000000  \n",
              "mean        0.476466  \n",
              "std         0.499469  \n",
              "min         0.000000  \n",
              "25%         0.000000  \n",
              "50%         0.000000  \n",
              "75%         1.000000  \n",
              "max         1.000000  "
            ],
            "text/html": [
              "\n",
              "  <div id=\"df-5f7e866a-9dda-4d6d-919d-441f055c2ab4\">\n",
              "    <div class=\"colab-df-container\">\n",
              "      <div>\n",
              "<style scoped>\n",
              "    .dataframe tbody tr th:only-of-type {\n",
              "        vertical-align: middle;\n",
              "    }\n",
              "\n",
              "    .dataframe tbody tr th {\n",
              "        vertical-align: top;\n",
              "    }\n",
              "\n",
              "    .dataframe thead th {\n",
              "        text-align: right;\n",
              "    }\n",
              "</style>\n",
              "<table border=\"1\" class=\"dataframe\">\n",
              "  <thead>\n",
              "    <tr style=\"text-align: right;\">\n",
              "      <th></th>\n",
              "      <th>open</th>\n",
              "      <th>high</th>\n",
              "      <th>low</th>\n",
              "      <th>close</th>\n",
              "      <th>volume</th>\n",
              "      <th>profit or not</th>\n",
              "    </tr>\n",
              "  </thead>\n",
              "  <tbody>\n",
              "    <tr>\n",
              "      <th>count</th>\n",
              "      <td>10559.000000</td>\n",
              "      <td>10559.000000</td>\n",
              "      <td>10559.000000</td>\n",
              "      <td>10559.000000</td>\n",
              "      <td>1.055900e+04</td>\n",
              "      <td>10559.000000</td>\n",
              "    </tr>\n",
              "    <tr>\n",
              "      <th>mean</th>\n",
              "      <td>15.308827</td>\n",
              "      <td>15.483090</td>\n",
              "      <td>15.139373</td>\n",
              "      <td>15.318012</td>\n",
              "      <td>3.263275e+08</td>\n",
              "      <td>0.476466</td>\n",
              "    </tr>\n",
              "    <tr>\n",
              "      <th>std</th>\n",
              "      <td>33.973113</td>\n",
              "      <td>34.385796</td>\n",
              "      <td>33.580974</td>\n",
              "      <td>34.000790</td>\n",
              "      <td>3.201156e+08</td>\n",
              "      <td>0.499469</td>\n",
              "    </tr>\n",
              "    <tr>\n",
              "      <th>min</th>\n",
              "      <td>0.038800</td>\n",
              "      <td>0.038800</td>\n",
              "      <td>0.038400</td>\n",
              "      <td>0.038400</td>\n",
              "      <td>1.001504e+06</td>\n",
              "      <td>0.000000</td>\n",
              "    </tr>\n",
              "    <tr>\n",
              "      <th>25%</th>\n",
              "      <td>0.236800</td>\n",
              "      <td>0.242500</td>\n",
              "      <td>0.231650</td>\n",
              "      <td>0.236900</td>\n",
              "      <td>1.219792e+08</td>\n",
              "      <td>0.000000</td>\n",
              "    </tr>\n",
              "    <tr>\n",
              "      <th>50%</th>\n",
              "      <td>0.400200</td>\n",
              "      <td>0.406600</td>\n",
              "      <td>0.393000</td>\n",
              "      <td>0.399300</td>\n",
              "      <td>2.159780e+08</td>\n",
              "      <td>0.000000</td>\n",
              "    </tr>\n",
              "    <tr>\n",
              "      <th>75%</th>\n",
              "      <td>13.652700</td>\n",
              "      <td>13.783300</td>\n",
              "      <td>13.504000</td>\n",
              "      <td>13.647150</td>\n",
              "      <td>4.074518e+08</td>\n",
              "      <td>1.000000</td>\n",
              "    </tr>\n",
              "    <tr>\n",
              "      <th>max</th>\n",
              "      <td>181.877900</td>\n",
              "      <td>182.186600</td>\n",
              "      <td>178.382400</td>\n",
              "      <td>181.260500</td>\n",
              "      <td>2.147484e+09</td>\n",
              "      <td>1.000000</td>\n",
              "    </tr>\n",
              "  </tbody>\n",
              "</table>\n",
              "</div>\n",
              "      <button class=\"colab-df-convert\" onclick=\"convertToInteractive('df-5f7e866a-9dda-4d6d-919d-441f055c2ab4')\"\n",
              "              title=\"Convert this dataframe to an interactive table.\"\n",
              "              style=\"display:none;\">\n",
              "        \n",
              "  <svg xmlns=\"http://www.w3.org/2000/svg\" height=\"24px\"viewBox=\"0 0 24 24\"\n",
              "       width=\"24px\">\n",
              "    <path d=\"M0 0h24v24H0V0z\" fill=\"none\"/>\n",
              "    <path d=\"M18.56 5.44l.94 2.06.94-2.06 2.06-.94-2.06-.94-.94-2.06-.94 2.06-2.06.94zm-11 1L8.5 8.5l.94-2.06 2.06-.94-2.06-.94L8.5 2.5l-.94 2.06-2.06.94zm10 10l.94 2.06.94-2.06 2.06-.94-2.06-.94-.94-2.06-.94 2.06-2.06.94z\"/><path d=\"M17.41 7.96l-1.37-1.37c-.4-.4-.92-.59-1.43-.59-.52 0-1.04.2-1.43.59L10.3 9.45l-7.72 7.72c-.78.78-.78 2.05 0 2.83L4 21.41c.39.39.9.59 1.41.59.51 0 1.02-.2 1.41-.59l7.78-7.78 2.81-2.81c.8-.78.8-2.07 0-2.86zM5.41 20L4 18.59l7.72-7.72 1.47 1.35L5.41 20z\"/>\n",
              "  </svg>\n",
              "      </button>\n",
              "      \n",
              "  <style>\n",
              "    .colab-df-container {\n",
              "      display:flex;\n",
              "      flex-wrap:wrap;\n",
              "      gap: 12px;\n",
              "    }\n",
              "\n",
              "    .colab-df-convert {\n",
              "      background-color: #E8F0FE;\n",
              "      border: none;\n",
              "      border-radius: 50%;\n",
              "      cursor: pointer;\n",
              "      display: none;\n",
              "      fill: #1967D2;\n",
              "      height: 32px;\n",
              "      padding: 0 0 0 0;\n",
              "      width: 32px;\n",
              "    }\n",
              "\n",
              "    .colab-df-convert:hover {\n",
              "      background-color: #E2EBFA;\n",
              "      box-shadow: 0px 1px 2px rgba(60, 64, 67, 0.3), 0px 1px 3px 1px rgba(60, 64, 67, 0.15);\n",
              "      fill: #174EA6;\n",
              "    }\n",
              "\n",
              "    [theme=dark] .colab-df-convert {\n",
              "      background-color: #3B4455;\n",
              "      fill: #D2E3FC;\n",
              "    }\n",
              "\n",
              "    [theme=dark] .colab-df-convert:hover {\n",
              "      background-color: #434B5C;\n",
              "      box-shadow: 0px 1px 3px 1px rgba(0, 0, 0, 0.15);\n",
              "      filter: drop-shadow(0px 1px 2px rgba(0, 0, 0, 0.3));\n",
              "      fill: #FFFFFF;\n",
              "    }\n",
              "  </style>\n",
              "\n",
              "      <script>\n",
              "        const buttonEl =\n",
              "          document.querySelector('#df-5f7e866a-9dda-4d6d-919d-441f055c2ab4 button.colab-df-convert');\n",
              "        buttonEl.style.display =\n",
              "          google.colab.kernel.accessAllowed ? 'block' : 'none';\n",
              "\n",
              "        async function convertToInteractive(key) {\n",
              "          const element = document.querySelector('#df-5f7e866a-9dda-4d6d-919d-441f055c2ab4');\n",
              "          const dataTable =\n",
              "            await google.colab.kernel.invokeFunction('convertToInteractive',\n",
              "                                                     [key], {});\n",
              "          if (!dataTable) return;\n",
              "\n",
              "          const docLinkHtml = 'Like what you see? Visit the ' +\n",
              "            '<a target=\"_blank\" href=https://colab.research.google.com/notebooks/data_table.ipynb>data table notebook</a>'\n",
              "            + ' to learn more about interactive tables.';\n",
              "          element.innerHTML = '';\n",
              "          dataTable['output_type'] = 'display_data';\n",
              "          await google.colab.output.renderOutput(dataTable, element);\n",
              "          const docLink = document.createElement('div');\n",
              "          docLink.innerHTML = docLinkHtml;\n",
              "          element.appendChild(docLink);\n",
              "        }\n",
              "      </script>\n",
              "    </div>\n",
              "  </div>\n",
              "  "
            ]
          },
          "metadata": {},
          "execution_count": 162
        }
      ]
    },
    {
      "cell_type": "code",
      "source": [
        "data.info()"
      ],
      "metadata": {
        "colab": {
          "base_uri": "https://localhost:8080/"
        },
        "id": "kbfJ1VPOUWoZ",
        "outputId": "de3386a9-e0ec-4bd1-88b9-52cc021a97d5"
      },
      "execution_count": 163,
      "outputs": [
        {
          "output_type": "stream",
          "name": "stdout",
          "text": [
            "<class 'pandas.core.frame.DataFrame'>\n",
            "RangeIndex: 10559 entries, 0 to 10558\n",
            "Data columns (total 7 columns):\n",
            " #   Column         Non-Null Count  Dtype  \n",
            "---  ------         --------------  -----  \n",
            " 0   date           10559 non-null  object \n",
            " 1   open           10559 non-null  float64\n",
            " 2   high           10559 non-null  float64\n",
            " 3   low            10559 non-null  float64\n",
            " 4   close          10559 non-null  float64\n",
            " 5   volume         10559 non-null  int64  \n",
            " 6   profit or not  10559 non-null  int64  \n",
            "dtypes: float64(4), int64(2), object(1)\n",
            "memory usage: 577.6+ KB\n"
          ]
        }
      ]
    },
    {
      "cell_type": "code",
      "source": [
        "data.corr()"
      ],
      "metadata": {
        "colab": {
          "base_uri": "https://localhost:8080/",
          "height": 238
        },
        "id": "2ztD3reUbtUX",
        "outputId": "fa2cde7d-8bce-48bc-dd60-0f56b5da9389"
      },
      "execution_count": 224,
      "outputs": [
        {
          "output_type": "execute_result",
          "data": {
            "text/plain": [
              "            open      high       low     close    volume    profit\n",
              "open    1.000000  0.999941  0.999926  0.999844 -0.219316 -0.000861\n",
              "high    0.999941  1.000000  0.999913  0.999926 -0.218785 -0.003254\n",
              "low     0.999926  0.999913  1.000000  0.999928 -0.220155 -0.003508\n",
              "close   0.999844  0.999926  0.999928  1.000000 -0.219485 -0.006072\n",
              "volume -0.219316 -0.218785 -0.220155 -0.219485  1.000000  0.019101\n",
              "profit -0.000861 -0.003254 -0.003508 -0.006072  0.019101  1.000000"
            ],
            "text/html": [
              "\n",
              "  <div id=\"df-c9a8f7d2-7956-4f72-8b14-82744caeec3c\">\n",
              "    <div class=\"colab-df-container\">\n",
              "      <div>\n",
              "<style scoped>\n",
              "    .dataframe tbody tr th:only-of-type {\n",
              "        vertical-align: middle;\n",
              "    }\n",
              "\n",
              "    .dataframe tbody tr th {\n",
              "        vertical-align: top;\n",
              "    }\n",
              "\n",
              "    .dataframe thead th {\n",
              "        text-align: right;\n",
              "    }\n",
              "</style>\n",
              "<table border=\"1\" class=\"dataframe\">\n",
              "  <thead>\n",
              "    <tr style=\"text-align: right;\">\n",
              "      <th></th>\n",
              "      <th>open</th>\n",
              "      <th>high</th>\n",
              "      <th>low</th>\n",
              "      <th>close</th>\n",
              "      <th>volume</th>\n",
              "      <th>profit</th>\n",
              "    </tr>\n",
              "  </thead>\n",
              "  <tbody>\n",
              "    <tr>\n",
              "      <th>open</th>\n",
              "      <td>1.000000</td>\n",
              "      <td>0.999941</td>\n",
              "      <td>0.999926</td>\n",
              "      <td>0.999844</td>\n",
              "      <td>-0.219316</td>\n",
              "      <td>-0.000861</td>\n",
              "    </tr>\n",
              "    <tr>\n",
              "      <th>high</th>\n",
              "      <td>0.999941</td>\n",
              "      <td>1.000000</td>\n",
              "      <td>0.999913</td>\n",
              "      <td>0.999926</td>\n",
              "      <td>-0.218785</td>\n",
              "      <td>-0.003254</td>\n",
              "    </tr>\n",
              "    <tr>\n",
              "      <th>low</th>\n",
              "      <td>0.999926</td>\n",
              "      <td>0.999913</td>\n",
              "      <td>1.000000</td>\n",
              "      <td>0.999928</td>\n",
              "      <td>-0.220155</td>\n",
              "      <td>-0.003508</td>\n",
              "    </tr>\n",
              "    <tr>\n",
              "      <th>close</th>\n",
              "      <td>0.999844</td>\n",
              "      <td>0.999926</td>\n",
              "      <td>0.999928</td>\n",
              "      <td>1.000000</td>\n",
              "      <td>-0.219485</td>\n",
              "      <td>-0.006072</td>\n",
              "    </tr>\n",
              "    <tr>\n",
              "      <th>volume</th>\n",
              "      <td>-0.219316</td>\n",
              "      <td>-0.218785</td>\n",
              "      <td>-0.220155</td>\n",
              "      <td>-0.219485</td>\n",
              "      <td>1.000000</td>\n",
              "      <td>0.019101</td>\n",
              "    </tr>\n",
              "    <tr>\n",
              "      <th>profit</th>\n",
              "      <td>-0.000861</td>\n",
              "      <td>-0.003254</td>\n",
              "      <td>-0.003508</td>\n",
              "      <td>-0.006072</td>\n",
              "      <td>0.019101</td>\n",
              "      <td>1.000000</td>\n",
              "    </tr>\n",
              "  </tbody>\n",
              "</table>\n",
              "</div>\n",
              "      <button class=\"colab-df-convert\" onclick=\"convertToInteractive('df-c9a8f7d2-7956-4f72-8b14-82744caeec3c')\"\n",
              "              title=\"Convert this dataframe to an interactive table.\"\n",
              "              style=\"display:none;\">\n",
              "        \n",
              "  <svg xmlns=\"http://www.w3.org/2000/svg\" height=\"24px\"viewBox=\"0 0 24 24\"\n",
              "       width=\"24px\">\n",
              "    <path d=\"M0 0h24v24H0V0z\" fill=\"none\"/>\n",
              "    <path d=\"M18.56 5.44l.94 2.06.94-2.06 2.06-.94-2.06-.94-.94-2.06-.94 2.06-2.06.94zm-11 1L8.5 8.5l.94-2.06 2.06-.94-2.06-.94L8.5 2.5l-.94 2.06-2.06.94zm10 10l.94 2.06.94-2.06 2.06-.94-2.06-.94-.94-2.06-.94 2.06-2.06.94z\"/><path d=\"M17.41 7.96l-1.37-1.37c-.4-.4-.92-.59-1.43-.59-.52 0-1.04.2-1.43.59L10.3 9.45l-7.72 7.72c-.78.78-.78 2.05 0 2.83L4 21.41c.39.39.9.59 1.41.59.51 0 1.02-.2 1.41-.59l7.78-7.78 2.81-2.81c.8-.78.8-2.07 0-2.86zM5.41 20L4 18.59l7.72-7.72 1.47 1.35L5.41 20z\"/>\n",
              "  </svg>\n",
              "      </button>\n",
              "      \n",
              "  <style>\n",
              "    .colab-df-container {\n",
              "      display:flex;\n",
              "      flex-wrap:wrap;\n",
              "      gap: 12px;\n",
              "    }\n",
              "\n",
              "    .colab-df-convert {\n",
              "      background-color: #E8F0FE;\n",
              "      border: none;\n",
              "      border-radius: 50%;\n",
              "      cursor: pointer;\n",
              "      display: none;\n",
              "      fill: #1967D2;\n",
              "      height: 32px;\n",
              "      padding: 0 0 0 0;\n",
              "      width: 32px;\n",
              "    }\n",
              "\n",
              "    .colab-df-convert:hover {\n",
              "      background-color: #E2EBFA;\n",
              "      box-shadow: 0px 1px 2px rgba(60, 64, 67, 0.3), 0px 1px 3px 1px rgba(60, 64, 67, 0.15);\n",
              "      fill: #174EA6;\n",
              "    }\n",
              "\n",
              "    [theme=dark] .colab-df-convert {\n",
              "      background-color: #3B4455;\n",
              "      fill: #D2E3FC;\n",
              "    }\n",
              "\n",
              "    [theme=dark] .colab-df-convert:hover {\n",
              "      background-color: #434B5C;\n",
              "      box-shadow: 0px 1px 3px 1px rgba(0, 0, 0, 0.15);\n",
              "      filter: drop-shadow(0px 1px 2px rgba(0, 0, 0, 0.3));\n",
              "      fill: #FFFFFF;\n",
              "    }\n",
              "  </style>\n",
              "\n",
              "      <script>\n",
              "        const buttonEl =\n",
              "          document.querySelector('#df-c9a8f7d2-7956-4f72-8b14-82744caeec3c button.colab-df-convert');\n",
              "        buttonEl.style.display =\n",
              "          google.colab.kernel.accessAllowed ? 'block' : 'none';\n",
              "\n",
              "        async function convertToInteractive(key) {\n",
              "          const element = document.querySelector('#df-c9a8f7d2-7956-4f72-8b14-82744caeec3c');\n",
              "          const dataTable =\n",
              "            await google.colab.kernel.invokeFunction('convertToInteractive',\n",
              "                                                     [key], {});\n",
              "          if (!dataTable) return;\n",
              "\n",
              "          const docLinkHtml = 'Like what you see? Visit the ' +\n",
              "            '<a target=\"_blank\" href=https://colab.research.google.com/notebooks/data_table.ipynb>data table notebook</a>'\n",
              "            + ' to learn more about interactive tables.';\n",
              "          element.innerHTML = '';\n",
              "          dataTable['output_type'] = 'display_data';\n",
              "          await google.colab.output.renderOutput(dataTable, element);\n",
              "          const docLink = document.createElement('div');\n",
              "          docLink.innerHTML = docLinkHtml;\n",
              "          element.appendChild(docLink);\n",
              "        }\n",
              "      </script>\n",
              "    </div>\n",
              "  </div>\n",
              "  "
            ]
          },
          "metadata": {},
          "execution_count": 224
        }
      ]
    },
    {
      "cell_type": "code",
      "source": [
        "plt.subplots(figsize=(15, 5))\n",
        "sns.heatmap(data.corr(), linewidths=.1, annot=True)"
      ],
      "metadata": {
        "colab": {
          "base_uri": "https://localhost:8080/",
          "height": 341
        },
        "id": "txDgK1AQbx9Q",
        "outputId": "2e3a495e-71a1-446b-ceaf-8f46fe149152"
      },
      "execution_count": 225,
      "outputs": [
        {
          "output_type": "execute_result",
          "data": {
            "text/plain": [
              "<matplotlib.axes._subplots.AxesSubplot at 0x7f75f8d0f910>"
            ]
          },
          "metadata": {},
          "execution_count": 225
        },
        {
          "output_type": "display_data",
          "data": {
            "text/plain": [
              "<Figure size 1080x360 with 2 Axes>"
            ],
            "image/png": "[encoded data removed]"
          },
          "metadata": {}
        }
      ]
    },
    {
      "cell_type": "code",
      "source": [
        "data.isnull().sum()"
      ],
      "metadata": {
        "colab": {
          "base_uri": "https://localhost:8080/"
        },
        "id": "el8zoijDUY8j",
        "outputId": "ba9273ff-a9f1-4fa9-9af0-8ee32e79bd07"
      },
      "execution_count": 167,
      "outputs": [
        {
          "output_type": "execute_result",
          "data": {
            "text/plain": [
              "date             0\n",
              "open             0\n",
              "high             0\n",
              "low              0\n",
              "close            0\n",
              "volume           0\n",
              "profit or not    0\n",
              "dtype: int64"
            ]
          },
          "metadata": {},
          "execution_count": 167
        }
      ]
    },
    {
      "cell_type": "code",
      "source": [
        "data.shape"
      ],
      "metadata": {
        "colab": {
          "base_uri": "https://localhost:8080/"
        },
        "id": "JbrRq4jUUcZv",
        "outputId": "a8010b28-f65e-492d-ddce-5b7f6545f89c"
      },
      "execution_count": 168,
      "outputs": [
        {
          "output_type": "execute_result",
          "data": {
            "text/plain": [
              "(10559, 7)"
            ]
          },
          "metadata": {},
          "execution_count": 168
        }
      ]
    },
    {
      "cell_type": "code",
      "source": [
        "data.columns"
      ],
      "metadata": {
        "colab": {
          "base_uri": "https://localhost:8080/"
        },
        "id": "wNrbnKaCUfvF",
        "outputId": "d376368d-fa84-4a38-e125-27c0c2b8eb60"
      },
      "execution_count": 169,
      "outputs": [
        {
          "output_type": "execute_result",
          "data": {
            "text/plain": [
              "Index(['date', 'open', 'high', 'low', 'close', 'volume', 'profit or not'], dtype='object')"
            ]
          },
          "metadata": {},
          "execution_count": 169
        }
      ]
    },
    {
      "cell_type": "code",
      "source": [
        "data['profit'] = data['profit or not']\n",
        "data.drop('profit or not',axis=1,inplace=True)"
      ],
      "metadata": {
        "id": "A0RsdsrOUoS_"
      },
      "execution_count": 170,
      "outputs": []
    },
    {
      "cell_type": "code",
      "source": [
        "def to_yr(date):\n",
        "    return date[6:]"
      ],
      "metadata": {
        "id": "euOFVNT1UqPw"
      },
      "execution_count": 171,
      "outputs": []
    },
    {
      "cell_type": "code",
      "source": [
        "data['year'] = data['date'].apply(to_yr)"
      ],
      "metadata": {
        "id": "wIfoHu0_UtDI"
      },
      "execution_count": 172,
      "outputs": []
    },
    {
      "cell_type": "code",
      "source": [
        "data_model = data.drop(['date','year','profit','volume'],axis=1)"
      ],
      "metadata": {
        "id": "BAo3qNcVUuUP"
      },
      "execution_count": 173,
      "outputs": []
    },
    {
      "cell_type": "code",
      "source": [
        "data.head()"
      ],
      "metadata": {
        "colab": {
          "base_uri": "https://localhost:8080/",
          "height": 206
        },
        "id": "90HqF20JUvw0",
        "outputId": "e8062a6c-7c50-4d29-e33c-d55d806a931e"
      },
      "execution_count": 174,
      "outputs": [
        {
          "output_type": "execute_result",
          "data": {
            "text/plain": [
              "         date    open    high     low   close     volume  profit  year\n",
              "0  12-12-1980  0.1003  0.1007  0.1003  0.1003  469033600       0  1980\n",
              "1  15-12-1980  0.0955  0.0955  0.0951  0.0951  175884800       1  1980\n",
              "2  16-12-1980  0.0885  0.0885  0.0881  0.0881  105728000       1  1980\n",
              "3  17-12-1980  0.0902  0.0907  0.0902  0.0902   86441600       0  1980\n",
              "4  18-12-1980  0.0929  0.0933  0.0929  0.0929   73449600       0  1980"
            ],
            "text/html": [
              "\n",
              "  <div id=\"df-4a12a22f-074a-4f9d-a040-688ea319e2d4\">\n",
              "    <div class=\"colab-df-container\">\n",
              "      <div>\n",
              "<style scoped>\n",
              "    .dataframe tbody tr th:only-of-type {\n",
              "        vertical-align: middle;\n",
              "    }\n",
              "\n",
              "    .dataframe tbody tr th {\n",
              "        vertical-align: top;\n",
              "    }\n",
              "\n",
              "    .dataframe thead th {\n",
              "        text-align: right;\n",
              "    }\n",
              "</style>\n",
              "<table border=\"1\" class=\"dataframe\">\n",
              "  <thead>\n",
              "    <tr style=\"text-align: right;\">\n",
              "      <th></th>\n",
              "      <th>date</th>\n",
              "      <th>open</th>\n",
              "      <th>high</th>\n",
              "      <th>low</th>\n",
              "      <th>close</th>\n",
              "      <th>volume</th>\n",
              "      <th>profit</th>\n",
              "      <th>year</th>\n",
              "    </tr>\n",
              "  </thead>\n",
              "  <tbody>\n",
              "    <tr>\n",
              "      <th>0</th>\n",
              "      <td>12-12-1980</td>\n",
              "      <td>0.1003</td>\n",
              "      <td>0.1007</td>\n",
              "      <td>0.1003</td>\n",
              "      <td>0.1003</td>\n",
              "      <td>469033600</td>\n",
              "      <td>0</td>\n",
              "      <td>1980</td>\n",
              "    </tr>\n",
              "    <tr>\n",
              "      <th>1</th>\n",
              "      <td>15-12-1980</td>\n",
              "      <td>0.0955</td>\n",
              "      <td>0.0955</td>\n",
              "      <td>0.0951</td>\n",
              "      <td>0.0951</td>\n",
              "      <td>175884800</td>\n",
              "      <td>1</td>\n",
              "      <td>1980</td>\n",
              "    </tr>\n",
              "    <tr>\n",
              "      <th>2</th>\n",
              "      <td>16-12-1980</td>\n",
              "      <td>0.0885</td>\n",
              "      <td>0.0885</td>\n",
              "      <td>0.0881</td>\n",
              "      <td>0.0881</td>\n",
              "      <td>105728000</td>\n",
              "      <td>1</td>\n",
              "      <td>1980</td>\n",
              "    </tr>\n",
              "    <tr>\n",
              "      <th>3</th>\n",
              "      <td>17-12-1980</td>\n",
              "      <td>0.0902</td>\n",
              "      <td>0.0907</td>\n",
              "      <td>0.0902</td>\n",
              "      <td>0.0902</td>\n",
              "      <td>86441600</td>\n",
              "      <td>0</td>\n",
              "      <td>1980</td>\n",
              "    </tr>\n",
              "    <tr>\n",
              "      <th>4</th>\n",
              "      <td>18-12-1980</td>\n",
              "      <td>0.0929</td>\n",
              "      <td>0.0933</td>\n",
              "      <td>0.0929</td>\n",
              "      <td>0.0929</td>\n",
              "      <td>73449600</td>\n",
              "      <td>0</td>\n",
              "      <td>1980</td>\n",
              "    </tr>\n",
              "  </tbody>\n",
              "</table>\n",
              "</div>\n",
              "      <button class=\"colab-df-convert\" onclick=\"convertToInteractive('df-4a12a22f-074a-4f9d-a040-688ea319e2d4')\"\n",
              "              title=\"Convert this dataframe to an interactive table.\"\n",
              "              style=\"display:none;\">\n",
              "        \n",
              "  <svg xmlns=\"http://www.w3.org/2000/svg\" height=\"24px\"viewBox=\"0 0 24 24\"\n",
              "       width=\"24px\">\n",
              "    <path d=\"M0 0h24v24H0V0z\" fill=\"none\"/>\n",
              "    <path d=\"M18.56 5.44l.94 2.06.94-2.06 2.06-.94-2.06-.94-.94-2.06-.94 2.06-2.06.94zm-11 1L8.5 8.5l.94-2.06 2.06-.94-2.06-.94L8.5 2.5l-.94 2.06-2.06.94zm10 10l.94 2.06.94-2.06 2.06-.94-2.06-.94-.94-2.06-.94 2.06-2.06.94z\"/><path d=\"M17.41 7.96l-1.37-1.37c-.4-.4-.92-.59-1.43-.59-.52 0-1.04.2-1.43.59L10.3 9.45l-7.72 7.72c-.78.78-.78 2.05 0 2.83L4 21.41c.39.39.9.59 1.41.59.51 0 1.02-.2 1.41-.59l7.78-7.78 2.81-2.81c.8-.78.8-2.07 0-2.86zM5.41 20L4 18.59l7.72-7.72 1.47 1.35L5.41 20z\"/>\n",
              "  </svg>\n",
              "      </button>\n",
              "      \n",
              "  <style>\n",
              "    .colab-df-container {\n",
              "      display:flex;\n",
              "      flex-wrap:wrap;\n",
              "      gap: 12px;\n",
              "    }\n",
              "\n",
              "    .colab-df-convert {\n",
              "      background-color: #E8F0FE;\n",
              "      border: none;\n",
              "      border-radius: 50%;\n",
              "      cursor: pointer;\n",
              "      display: none;\n",
              "      fill: #1967D2;\n",
              "      height: 32px;\n",
              "      padding: 0 0 0 0;\n",
              "      width: 32px;\n",
              "    }\n",
              "\n",
              "    .colab-df-convert:hover {\n",
              "      background-color: #E2EBFA;\n",
              "      box-shadow: 0px 1px 2px rgba(60, 64, 67, 0.3), 0px 1px 3px 1px rgba(60, 64, 67, 0.15);\n",
              "      fill: #174EA6;\n",
              "    }\n",
              "\n",
              "    [theme=dark] .colab-df-convert {\n",
              "      background-color: #3B4455;\n",
              "      fill: #D2E3FC;\n",
              "    }\n",
              "\n",
              "    [theme=dark] .colab-df-convert:hover {\n",
              "      background-color: #434B5C;\n",
              "      box-shadow: 0px 1px 3px 1px rgba(0, 0, 0, 0.15);\n",
              "      filter: drop-shadow(0px 1px 2px rgba(0, 0, 0, 0.3));\n",
              "      fill: #FFFFFF;\n",
              "    }\n",
              "  </style>\n",
              "\n",
              "      <script>\n",
              "        const buttonEl =\n",
              "          document.querySelector('#df-4a12a22f-074a-4f9d-a040-688ea319e2d4 button.colab-df-convert');\n",
              "        buttonEl.style.display =\n",
              "          google.colab.kernel.accessAllowed ? 'block' : 'none';\n",
              "\n",
              "        async function convertToInteractive(key) {\n",
              "          const element = document.querySelector('#df-4a12a22f-074a-4f9d-a040-688ea319e2d4');\n",
              "          const dataTable =\n",
              "            await google.colab.kernel.invokeFunction('convertToInteractive',\n",
              "                                                     [key], {});\n",
              "          if (!dataTable) return;\n",
              "\n",
              "          const docLinkHtml = 'Like what you see? Visit the ' +\n",
              "            '<a target=\"_blank\" href=https://colab.research.google.com/notebooks/data_table.ipynb>data table notebook</a>'\n",
              "            + ' to learn more about interactive tables.';\n",
              "          element.innerHTML = '';\n",
              "          dataTable['output_type'] = 'display_data';\n",
              "          await google.colab.output.renderOutput(dataTable, element);\n",
              "          const docLink = document.createElement('div');\n",
              "          docLink.innerHTML = docLinkHtml;\n",
              "          element.appendChild(docLink);\n",
              "        }\n",
              "      </script>\n",
              "    </div>\n",
              "  </div>\n",
              "  "
            ]
          },
          "metadata": {},
          "execution_count": 174
        }
      ]
    },
    {
      "cell_type": "code",
      "source": [
        "data_model.head()"
      ],
      "metadata": {
        "colab": {
          "base_uri": "https://localhost:8080/",
          "height": 206
        },
        "id": "F59NmFi5Uw5j",
        "outputId": "1cee567c-fd9a-44da-964a-b59b2176f63b"
      },
      "execution_count": 175,
      "outputs": [
        {
          "output_type": "execute_result",
          "data": {
            "text/plain": [
              "     open    high     low   close\n",
              "0  0.1003  0.1007  0.1003  0.1003\n",
              "1  0.0955  0.0955  0.0951  0.0951\n",
              "2  0.0885  0.0885  0.0881  0.0881\n",
              "3  0.0902  0.0907  0.0902  0.0902\n",
              "4  0.0929  0.0933  0.0929  0.0929"
            ],
            "text/html": [
              "\n",
              "  <div id=\"df-3fb42768-ad4d-418f-b355-88424b34b2a9\">\n",
              "    <div class=\"colab-df-container\">\n",
              "      <div>\n",
              "<style scoped>\n",
              "    .dataframe tbody tr th:only-of-type {\n",
              "        vertical-align: middle;\n",
              "    }\n",
              "\n",
              "    .dataframe tbody tr th {\n",
              "        vertical-align: top;\n",
              "    }\n",
              "\n",
              "    .dataframe thead th {\n",
              "        text-align: right;\n",
              "    }\n",
              "</style>\n",
              "<table border=\"1\" class=\"dataframe\">\n",
              "  <thead>\n",
              "    <tr style=\"text-align: right;\">\n",
              "      <th></th>\n",
              "      <th>open</th>\n",
              "      <th>high</th>\n",
              "      <th>low</th>\n",
              "      <th>close</th>\n",
              "    </tr>\n",
              "  </thead>\n",
              "  <tbody>\n",
              "    <tr>\n",
              "      <th>0</th>\n",
              "      <td>0.1003</td>\n",
              "      <td>0.1007</td>\n",
              "      <td>0.1003</td>\n",
              "      <td>0.1003</td>\n",
              "    </tr>\n",
              "    <tr>\n",
              "      <th>1</th>\n",
              "      <td>0.0955</td>\n",
              "      <td>0.0955</td>\n",
              "      <td>0.0951</td>\n",
              "      <td>0.0951</td>\n",
              "    </tr>\n",
              "    <tr>\n",
              "      <th>2</th>\n",
              "      <td>0.0885</td>\n",
              "      <td>0.0885</td>\n",
              "      <td>0.0881</td>\n",
              "      <td>0.0881</td>\n",
              "    </tr>\n",
              "    <tr>\n",
              "      <th>3</th>\n",
              "      <td>0.0902</td>\n",
              "      <td>0.0907</td>\n",
              "      <td>0.0902</td>\n",
              "      <td>0.0902</td>\n",
              "    </tr>\n",
              "    <tr>\n",
              "      <th>4</th>\n",
              "      <td>0.0929</td>\n",
              "      <td>0.0933</td>\n",
              "      <td>0.0929</td>\n",
              "      <td>0.0929</td>\n",
              "    </tr>\n",
              "  </tbody>\n",
              "</table>\n",
              "</div>\n",
              "      <button class=\"colab-df-convert\" onclick=\"convertToInteractive('df-3fb42768-ad4d-418f-b355-88424b34b2a9')\"\n",
              "              title=\"Convert this dataframe to an interactive table.\"\n",
              "              style=\"display:none;\">\n",
              "        \n",
              "  <svg xmlns=\"http://www.w3.org/2000/svg\" height=\"24px\"viewBox=\"0 0 24 24\"\n",
              "       width=\"24px\">\n",
              "    <path d=\"M0 0h24v24H0V0z\" fill=\"none\"/>\n",
              "    <path d=\"M18.56 5.44l.94 2.06.94-2.06 2.06-.94-2.06-.94-.94-2.06-.94 2.06-2.06.94zm-11 1L8.5 8.5l.94-2.06 2.06-.94-2.06-.94L8.5 2.5l-.94 2.06-2.06.94zm10 10l.94 2.06.94-2.06 2.06-.94-2.06-.94-.94-2.06-.94 2.06-2.06.94z\"/><path d=\"M17.41 7.96l-1.37-1.37c-.4-.4-.92-.59-1.43-.59-.52 0-1.04.2-1.43.59L10.3 9.45l-7.72 7.72c-.78.78-.78 2.05 0 2.83L4 21.41c.39.39.9.59 1.41.59.51 0 1.02-.2 1.41-.59l7.78-7.78 2.81-2.81c.8-.78.8-2.07 0-2.86zM5.41 20L4 18.59l7.72-7.72 1.47 1.35L5.41 20z\"/>\n",
              "  </svg>\n",
              "      </button>\n",
              "      \n",
              "  <style>\n",
              "    .colab-df-container {\n",
              "      display:flex;\n",
              "      flex-wrap:wrap;\n",
              "      gap: 12px;\n",
              "    }\n",
              "\n",
              "    .colab-df-convert {\n",
              "      background-color: #E8F0FE;\n",
              "      border: none;\n",
              "      border-radius: 50%;\n",
              "      cursor: pointer;\n",
              "      display: none;\n",
              "      fill: #1967D2;\n",
              "      height: 32px;\n",
              "      padding: 0 0 0 0;\n",
              "      width: 32px;\n",
              "    }\n",
              "\n",
              "    .colab-df-convert:hover {\n",
              "      background-color: #E2EBFA;\n",
              "      box-shadow: 0px 1px 2px rgba(60, 64, 67, 0.3), 0px 1px 3px 1px rgba(60, 64, 67, 0.15);\n",
              "      fill: #174EA6;\n",
              "    }\n",
              "\n",
              "    [theme=dark] .colab-df-convert {\n",
              "      background-color: #3B4455;\n",
              "      fill: #D2E3FC;\n",
              "    }\n",
              "\n",
              "    [theme=dark] .colab-df-convert:hover {\n",
              "      background-color: #434B5C;\n",
              "      box-shadow: 0px 1px 3px 1px rgba(0, 0, 0, 0.15);\n",
              "      filter: drop-shadow(0px 1px 2px rgba(0, 0, 0, 0.3));\n",
              "      fill: #FFFFFF;\n",
              "    }\n",
              "  </style>\n",
              "\n",
              "      <script>\n",
              "        const buttonEl =\n",
              "          document.querySelector('#df-3fb42768-ad4d-418f-b355-88424b34b2a9 button.colab-df-convert');\n",
              "        buttonEl.style.display =\n",
              "          google.colab.kernel.accessAllowed ? 'block' : 'none';\n",
              "\n",
              "        async function convertToInteractive(key) {\n",
              "          const element = document.querySelector('#df-3fb42768-ad4d-418f-b355-88424b34b2a9');\n",
              "          const dataTable =\n",
              "            await google.colab.kernel.invokeFunction('convertToInteractive',\n",
              "                                                     [key], {});\n",
              "          if (!dataTable) return;\n",
              "\n",
              "          const docLinkHtml = 'Like what you see? Visit the ' +\n",
              "            '<a target=\"_blank\" href=https://colab.research.google.com/notebooks/data_table.ipynb>data table notebook</a>'\n",
              "            + ' to learn more about interactive tables.';\n",
              "          element.innerHTML = '';\n",
              "          dataTable['output_type'] = 'display_data';\n",
              "          await google.colab.output.renderOutput(dataTable, element);\n",
              "          const docLink = document.createElement('div');\n",
              "          docLink.innerHTML = docLinkHtml;\n",
              "          element.appendChild(docLink);\n",
              "        }\n",
              "      </script>\n",
              "    </div>\n",
              "  </div>\n",
              "  "
            ]
          },
          "metadata": {},
          "execution_count": 175
        }
      ]
    },
    {
      "cell_type": "code",
      "source": [
        "data_grouped = pd.DataFrame(data.groupby('year')['close'].mean())\n",
        "data_grouped.reset_index(inplace=True)\n",
        "data_grouped.head()"
      ],
      "metadata": {
        "colab": {
          "base_uri": "https://localhost:8080/",
          "height": 206
        },
        "id": "_W9Alf9WUyIx",
        "outputId": "6c75eecd-d5c9-4cb8-a391-aeda1392896d"
      },
      "execution_count": 176,
      "outputs": [
        {
          "output_type": "execute_result",
          "data": {
            "text/plain": [
              "   year     close\n",
              "0  1980  0.106200\n",
              "1  1981  0.084803\n",
              "2  1982  0.066778\n",
              "3  1983  0.130890\n",
              "4  1984  0.093491"
            ],
            "text/html": [
              "\n",
              "  <div id=\"df-0cfa02ef-1140-45e2-81b6-24056babca15\">\n",
              "    <div class=\"colab-df-container\">\n",
              "      <div>\n",
              "<style scoped>\n",
              "    .dataframe tbody tr th:only-of-type {\n",
              "        vertical-align: middle;\n",
              "    }\n",
              "\n",
              "    .dataframe tbody tr th {\n",
              "        vertical-align: top;\n",
              "    }\n",
              "\n",
              "    .dataframe thead th {\n",
              "        text-align: right;\n",
              "    }\n",
              "</style>\n",
              "<table border=\"1\" class=\"dataframe\">\n",
              "  <thead>\n",
              "    <tr style=\"text-align: right;\">\n",
              "      <th></th>\n",
              "      <th>year</th>\n",
              "      <th>close</th>\n",
              "    </tr>\n",
              "  </thead>\n",
              "  <tbody>\n",
              "    <tr>\n",
              "      <th>0</th>\n",
              "      <td>1980</td>\n",
              "      <td>0.106200</td>\n",
              "    </tr>\n",
              "    <tr>\n",
              "      <th>1</th>\n",
              "      <td>1981</td>\n",
              "      <td>0.084803</td>\n",
              "    </tr>\n",
              "    <tr>\n",
              "      <th>2</th>\n",
              "      <td>1982</td>\n",
              "      <td>0.066778</td>\n",
              "    </tr>\n",
              "    <tr>\n",
              "      <th>3</th>\n",
              "      <td>1983</td>\n",
              "      <td>0.130890</td>\n",
              "    </tr>\n",
              "    <tr>\n",
              "      <th>4</th>\n",
              "      <td>1984</td>\n",
              "      <td>0.093491</td>\n",
              "    </tr>\n",
              "  </tbody>\n",
              "</table>\n",
              "</div>\n",
              "      <button class=\"colab-df-convert\" onclick=\"convertToInteractive('df-0cfa02ef-1140-45e2-81b6-24056babca15')\"\n",
              "              title=\"Convert this dataframe to an interactive table.\"\n",
              "              style=\"display:none;\">\n",
              "        \n",
              "  <svg xmlns=\"http://www.w3.org/2000/svg\" height=\"24px\"viewBox=\"0 0 24 24\"\n",
              "       width=\"24px\">\n",
              "    <path d=\"M0 0h24v24H0V0z\" fill=\"none\"/>\n",
              "    <path d=\"M18.56 5.44l.94 2.06.94-2.06 2.06-.94-2.06-.94-.94-2.06-.94 2.06-2.06.94zm-11 1L8.5 8.5l.94-2.06 2.06-.94-2.06-.94L8.5 2.5l-.94 2.06-2.06.94zm10 10l.94 2.06.94-2.06 2.06-.94-2.06-.94-.94-2.06-.94 2.06-2.06.94z\"/><path d=\"M17.41 7.96l-1.37-1.37c-.4-.4-.92-.59-1.43-.59-.52 0-1.04.2-1.43.59L10.3 9.45l-7.72 7.72c-.78.78-.78 2.05 0 2.83L4 21.41c.39.39.9.59 1.41.59.51 0 1.02-.2 1.41-.59l7.78-7.78 2.81-2.81c.8-.78.8-2.07 0-2.86zM5.41 20L4 18.59l7.72-7.72 1.47 1.35L5.41 20z\"/>\n",
              "  </svg>\n",
              "      </button>\n",
              "      \n",
              "  <style>\n",
              "    .colab-df-container {\n",
              "      display:flex;\n",
              "      flex-wrap:wrap;\n",
              "      gap: 12px;\n",
              "    }\n",
              "\n",
              "    .colab-df-convert {\n",
              "      background-color: #E8F0FE;\n",
              "      border: none;\n",
              "      border-radius: 50%;\n",
              "      cursor: pointer;\n",
              "      display: none;\n",
              "      fill: #1967D2;\n",
              "      height: 32px;\n",
              "      padding: 0 0 0 0;\n",
              "      width: 32px;\n",
              "    }\n",
              "\n",
              "    .colab-df-convert:hover {\n",
              "      background-color: #E2EBFA;\n",
              "      box-shadow: 0px 1px 2px rgba(60, 64, 67, 0.3), 0px 1px 3px 1px rgba(60, 64, 67, 0.15);\n",
              "      fill: #174EA6;\n",
              "    }\n",
              "\n",
              "    [theme=dark] .colab-df-convert {\n",
              "      background-color: #3B4455;\n",
              "      fill: #D2E3FC;\n",
              "    }\n",
              "\n",
              "    [theme=dark] .colab-df-convert:hover {\n",
              "      background-color: #434B5C;\n",
              "      box-shadow: 0px 1px 3px 1px rgba(0, 0, 0, 0.15);\n",
              "      filter: drop-shadow(0px 1px 2px rgba(0, 0, 0, 0.3));\n",
              "      fill: #FFFFFF;\n",
              "    }\n",
              "  </style>\n",
              "\n",
              "      <script>\n",
              "        const buttonEl =\n",
              "          document.querySelector('#df-0cfa02ef-1140-45e2-81b6-24056babca15 button.colab-df-convert');\n",
              "        buttonEl.style.display =\n",
              "          google.colab.kernel.accessAllowed ? 'block' : 'none';\n",
              "\n",
              "        async function convertToInteractive(key) {\n",
              "          const element = document.querySelector('#df-0cfa02ef-1140-45e2-81b6-24056babca15');\n",
              "          const dataTable =\n",
              "            await google.colab.kernel.invokeFunction('convertToInteractive',\n",
              "                                                     [key], {});\n",
              "          if (!dataTable) return;\n",
              "\n",
              "          const docLinkHtml = 'Like what you see? Visit the ' +\n",
              "            '<a target=\"_blank\" href=https://colab.research.google.com/notebooks/data_table.ipynb>data table notebook</a>'\n",
              "            + ' to learn more about interactive tables.';\n",
              "          element.innerHTML = '';\n",
              "          dataTable['output_type'] = 'display_data';\n",
              "          await google.colab.output.renderOutput(dataTable, element);\n",
              "          const docLink = document.createElement('div');\n",
              "          docLink.innerHTML = docLinkHtml;\n",
              "          element.appendChild(docLink);\n",
              "        }\n",
              "      </script>\n",
              "    </div>\n",
              "  </div>\n",
              "  "
            ]
          },
          "metadata": {},
          "execution_count": 176
        }
      ]
    },
    {
      "cell_type": "markdown",
      "source": [
        "Visualisation"
      ],
      "metadata": {
        "id": "fece7fx5Uzan"
      }
    },
    {
      "cell_type": "code",
      "source": [
        "sns.set_style('darkgrid')"
      ],
      "metadata": {
        "id": "Sfq8Dfq2U1O-"
      },
      "execution_count": 177,
      "outputs": []
    },
    {
      "cell_type": "code",
      "source": [
        "plt.pie(data['profit'].value_counts(),labels=['loss','profit'])\n",
        "plt.title('Profits Comparsion')\n",
        "plt.legend()"
      ],
      "metadata": {
        "colab": {
          "base_uri": "https://localhost:8080/",
          "height": 281
        },
        "id": "bhCg8Io_U2ov",
        "outputId": "b03bea6e-0cb9-4a47-ebf1-59b5905775d8"
      },
      "execution_count": 178,
      "outputs": [
        {
          "output_type": "execute_result",
          "data": {
            "text/plain": [
              "<matplotlib.legend.Legend at 0x7f75faa17a00>"
            ]
          },
          "metadata": {},
          "execution_count": 178
        },
        {
          "output_type": "display_data",
          "data": {
            "text/plain": [
              "<Figure size 432x288 with 1 Axes>"
            ],
            "image/png": "[encoded data removed]"
          },
          "metadata": {}
        }
      ]
    },
    {
      "cell_type": "code",
      "source": [
        "plt.figure(figsize=(30,10))\n",
        "plt.plot(data_grouped['year'],data_grouped['close'],color='black')\n",
        "plt.xlabel('Year')\n",
        "plt.ylabel('Values')\n",
        "plt.title('Graphs of Mean of Final Values per year')"
      ],
      "metadata": {
        "colab": {
          "base_uri": "https://localhost:8080/",
          "height": 469
        },
        "id": "ATF11d2sU4dL",
        "outputId": "4b6d32da-4c0d-4312-c804-a3392e8796af"
      },
      "execution_count": 179,
      "outputs": [
        {
          "output_type": "execute_result",
          "data": {
            "text/plain": [
              "Text(0.5, 1.0, 'Graphs of Mean of Final Values per year')"
            ]
          },
          "metadata": {},
          "execution_count": 179
        },
        {
          "output_type": "display_data",
          "data": {
            "text/plain": [
              "<Figure size 2160x720 with 1 Axes>"
            ],
            "image/png": "[encoded data removed]"
          },
          "metadata": {}
        }
      ]
    },
    {
      "cell_type": "code",
      "source": [
        "sns.set_palette('viridis')\n",
        "plt.scatter(x='open',y='close',data=data)\n",
        "plt.xlabel('Open Values')\n",
        "plt.ylabel('Final Values')\n",
        "plt.title('Open vs Close Values Comparsion')"
      ],
      "metadata": {
        "colab": {
          "base_uri": "https://localhost:8080/",
          "height": 312
        },
        "id": "3ckry99NU57o",
        "outputId": "d1358fe2-d0cd-4d4d-c852-867c6ad7ed62"
      },
      "execution_count": 180,
      "outputs": [
        {
          "output_type": "execute_result",
          "data": {
            "text/plain": [
              "Text(0.5, 1.0, 'Open vs Close Values Comparsion')"
            ]
          },
          "metadata": {},
          "execution_count": 180
        },
        {
          "output_type": "display_data",
          "data": {
            "text/plain": [
              "<Figure size 432x288 with 1 Axes>"
            ],
            "image/png": "[encoded data removed]"
          },
          "metadata": {}
        }
      ]
    },
    {
      "cell_type": "markdown",
      "source": [
        "Model Operations"
      ],
      "metadata": {
        "id": "LJTtRy3kU8wX"
      }
    },
    {
      "cell_type": "code",
      "source": [
        "X = data_model\n",
        "y = data['profit']\n",
        "X_train,X_test,y_train,y_test = train_test_split(X,y,test_size=0.33,random_state=101)"
      ],
      "metadata": {
        "id": "1bzqLDBeU-f9"
      },
      "execution_count": 254,
      "outputs": []
    },
    {
      "cell_type": "code",
      "source": [
        "from sklearn.linear_model import LogisticRegression "
      ],
      "metadata": {
        "id": "2NwzpX0xTeeg"
      },
      "execution_count": 199,
      "outputs": []
    },
    {
      "cell_type": "code",
      "source": [
        "log = LogisticRegression()\n",
        "log.fit(X_train,y_train)\n",
        "\n",
        "pred_log = log.predict(X_test)\n",
        "print(confusion_matrix(y_test,pred_log))\n",
        "print(classification_report(y_test,pred_log))"
      ],
      "metadata": {
        "colab": {
          "base_uri": "https://localhost:8080/"
        },
        "id": "iryePIXvTdjt",
        "outputId": "5241e36a-3314-44a1-e3d3-306b1545f34a"
      },
      "execution_count": 200,
      "outputs": [
        {
          "output_type": "stream",
          "name": "stdout",
          "text": [
            "[[1798    2]\n",
            " [ 736  949]]\n",
            "              precision    recall  f1-score   support\n",
            "\n",
            "           0       0.71      1.00      0.83      1800\n",
            "           1       1.00      0.56      0.72      1685\n",
            "\n",
            "    accuracy                           0.79      3485\n",
            "   macro avg       0.85      0.78      0.77      3485\n",
            "weighted avg       0.85      0.79      0.78      3485\n",
            "\n"
          ]
        }
      ]
    },
    {
      "cell_type": "markdown",
      "source": [
        "K Nearest Neighbors - KNN"
      ],
      "metadata": {
        "id": "-HWm-aKxaePv"
      }
    },
    {
      "cell_type": "code",
      "source": [
        "scaler = StandardScaler()\n",
        "scaler.fit(data_model)\n",
        "\n",
        "X_train,X_test,y_train,y_test = train_test_split(scaler.transform(data_model),data['profit'],test_size=0.33,random_state=101)\n",
        "print(X.shape, X_train.shape, X_test.shape, y_train.shape, y_test.shape)"
      ],
      "metadata": {
        "colab": {
          "base_uri": "https://localhost:8080/"
        },
        "id": "isu63LsMaepe",
        "outputId": "f7e7d068-cd24-4fb0-879c-2e69c19cd51a"
      },
      "execution_count": 274,
      "outputs": [
        {
          "output_type": "stream",
          "name": "stdout",
          "text": [
            "(10559, 4) (7074, 4) (3485, 4) (7074,) (3485,)\n"
          ]
        }
      ]
    },
    {
      "cell_type": "code",
      "source": [
        "knn = KNeighborsClassifier(n_neighbors=1)\n",
        "knn.fit(X_train,y_train)\n",
        "\n",
        "pred_knn = knn.predict(X_test)\n",
        "print('Model accuracy score:', accuracy_score(y_test, pred_knn))"
      ],
      "metadata": {
        "colab": {
          "base_uri": "https://localhost:8080/"
        },
        "id": "MOeCkQX3bFPm",
        "outputId": "79f47499-e5b7-4a82-be72-ff822c10bf58"
      },
      "execution_count": 276,
      "outputs": [
        {
          "output_type": "stream",
          "name": "stdout",
          "text": [
            "Model accuracy score: 0.8619799139167862\n"
          ]
        }
      ]
    },
    {
      "cell_type": "code",
      "source": [
        "print(classification_report(y_test,pred_knn))\n",
        "print(confusion_matrix(y_test,pred_knn))"
      ],
      "metadata": {
        "colab": {
          "base_uri": "https://localhost:8080/"
        },
        "id": "CvjG8eKubbc0",
        "outputId": "03d690f2-413c-4c02-9d99-bcc7d236180f"
      },
      "execution_count": 277,
      "outputs": [
        {
          "output_type": "stream",
          "name": "stdout",
          "text": [
            "              precision    recall  f1-score   support\n",
            "\n",
            "           0       0.86      0.88      0.87      1800\n",
            "           1       0.87      0.84      0.85      1685\n",
            "\n",
            "    accuracy                           0.86      3485\n",
            "   macro avg       0.86      0.86      0.86      3485\n",
            "weighted avg       0.86      0.86      0.86      3485\n",
            "\n",
            "[[1588  212]\n",
            " [ 269 1416]]\n"
          ]
        }
      ]
    },
    {
      "cell_type": "markdown",
      "source": [
        "Support Vector Machines - SVM"
      ],
      "metadata": {
        "id": "k9m1M9HYf9Y6"
      }
    },
    {
      "cell_type": "code",
      "source": [
        "param_grid = {'C':[0.001,0.1,1,10,100,1000,10000,100000],\n",
        "              'gamma':[0.1,0.01,0.001,0.0001,0.00001,0.00001,0.000001],\n",
        "              'kernel':['rbf']}"
      ],
      "metadata": {
        "id": "Z_HyRnduf_J1"
      },
      "execution_count": 278,
      "outputs": []
    },
    {
      "cell_type": "code",
      "source": [
        "grid = GridSearchCV(SVC(),param_grid,verbose=3)"
      ],
      "metadata": {
        "id": "B3X_7WWvf_xS"
      },
      "execution_count": 279,
      "outputs": []
    },
    {
      "cell_type": "code",
      "source": [
        "grid.fit(X_train,y_train)"
      ],
      "metadata": {
        "colab": {
          "base_uri": "https://localhost:8080/"
        },
        "id": "d9U_Nxn7gCDm",
        "outputId": "4dc19972-dad6-4c88-e295-4667cab86b1c"
      },
      "execution_count": 280,
      "outputs": [
        {
          "output_type": "stream",
          "name": "stdout",
          "text": [
            "Fitting 5 folds for each of 56 candidates, totalling 280 fits\n",
            "[CV 1/5] END ....C=0.001, gamma=0.1, kernel=rbf;, score=0.527 total time=   2.5s\n",
            "[CV 2/5] END ....C=0.001, gamma=0.1, kernel=rbf;, score=0.527 total time=   1.3s\n",
            "[CV 3/5] END ....C=0.001, gamma=0.1, kernel=rbf;, score=0.527 total time=   1.3s\n",
            "[CV 4/5] END ....C=0.001, gamma=0.1, kernel=rbf;, score=0.527 total time=   1.3s\n",
            "[CV 5/5] END ....C=0.001, gamma=0.1, kernel=rbf;, score=0.527 total time=   1.3s\n",
            "[CV 1/5] END ...C=0.001, gamma=0.01, kernel=rbf;, score=0.527 total time=   1.3s\n",
            "[CV 2/5] END ...C=0.001, gamma=0.01, kernel=rbf;, score=0.527 total time=   1.3s\n",
            "[CV 3/5] END ...C=0.001, gamma=0.01, kernel=rbf;, score=0.527 total time=   1.3s\n",
            "[CV 4/5] END ...C=0.001, gamma=0.01, kernel=rbf;, score=0.527 total time=   1.4s\n",
            "[CV 5/5] END ...C=0.001, gamma=0.01, kernel=rbf;, score=0.527 total time=   1.3s\n",
            "[CV 1/5] END ..C=0.001, gamma=0.001, kernel=rbf;, score=0.527 total time=   1.3s\n",
            "[CV 2/5] END ..C=0.001, gamma=0.001, kernel=rbf;, score=0.527 total time=   1.3s\n",
            "[CV 3/5] END ..C=0.001, gamma=0.001, kernel=rbf;, score=0.527 total time=   1.4s\n",
            "[CV 4/5] END ..C=0.001, gamma=0.001, kernel=rbf;, score=0.527 total time=   1.3s\n",
            "[CV 5/5] END ..C=0.001, gamma=0.001, kernel=rbf;, score=0.527 total time=   1.3s\n",
            "[CV 1/5] END .C=0.001, gamma=0.0001, kernel=rbf;, score=0.527 total time=   1.3s\n",
            "[CV 2/5] END .C=0.001, gamma=0.0001, kernel=rbf;, score=0.527 total time=   1.3s\n",
            "[CV 3/5] END .C=0.001, gamma=0.0001, kernel=rbf;, score=0.527 total time=   1.3s\n",
            "[CV 4/5] END .C=0.001, gamma=0.0001, kernel=rbf;, score=0.527 total time=   1.3s\n",
            "[CV 5/5] END .C=0.001, gamma=0.0001, kernel=rbf;, score=0.527 total time=   1.3s\n",
            "[CV 1/5] END ..C=0.001, gamma=1e-05, kernel=rbf;, score=0.527 total time=   2.0s\n",
            "[CV 2/5] END ..C=0.001, gamma=1e-05, kernel=rbf;, score=0.527 total time=   1.3s\n",
            "[CV 3/5] END ..C=0.001, gamma=1e-05, kernel=rbf;, score=0.527 total time=   1.3s\n",
            "[CV 4/5] END ..C=0.001, gamma=1e-05, kernel=rbf;, score=0.527 total time=   1.3s\n",
            "[CV 5/5] END ..C=0.001, gamma=1e-05, kernel=rbf;, score=0.527 total time=   1.3s\n",
            "[CV 1/5] END ..C=0.001, gamma=1e-05, kernel=rbf;, score=0.527 total time=   1.3s\n",
            "[CV 2/5] END ..C=0.001, gamma=1e-05, kernel=rbf;, score=0.527 total time=   1.3s\n",
            "[CV 3/5] END ..C=0.001, gamma=1e-05, kernel=rbf;, score=0.527 total time=   1.3s\n",
            "[CV 4/5] END ..C=0.001, gamma=1e-05, kernel=rbf;, score=0.527 total time=   1.3s\n",
            "[CV 5/5] END ..C=0.001, gamma=1e-05, kernel=rbf;, score=0.527 total time=   1.3s\n",
            "[CV 1/5] END ..C=0.001, gamma=1e-06, kernel=rbf;, score=0.527 total time=   1.3s\n",
            "[CV 2/5] END ..C=0.001, gamma=1e-06, kernel=rbf;, score=0.527 total time=   1.3s\n",
            "[CV 3/5] END ..C=0.001, gamma=1e-06, kernel=rbf;, score=0.527 total time=   1.3s\n",
            "[CV 4/5] END ..C=0.001, gamma=1e-06, kernel=rbf;, score=0.527 total time=   1.3s\n",
            "[CV 5/5] END ..C=0.001, gamma=1e-06, kernel=rbf;, score=0.527 total time=   1.3s\n",
            "[CV 1/5] END ......C=0.1, gamma=0.1, kernel=rbf;, score=0.527 total time=   1.3s\n",
            "[CV 2/5] END ......C=0.1, gamma=0.1, kernel=rbf;, score=0.527 total time=   1.4s\n",
            "[CV 3/5] END ......C=0.1, gamma=0.1, kernel=rbf;, score=0.527 total time=   1.3s\n",
            "[CV 4/5] END ......C=0.1, gamma=0.1, kernel=rbf;, score=0.527 total time=   1.3s\n",
            "[CV 5/5] END ......C=0.1, gamma=0.1, kernel=rbf;, score=0.527 total time=   1.4s\n",
            "[CV 1/5] END .....C=0.1, gamma=0.01, kernel=rbf;, score=0.527 total time=   1.4s\n",
            "[CV 2/5] END .....C=0.1, gamma=0.01, kernel=rbf;, score=0.527 total time=   1.3s\n",
            "[CV 3/5] END .....C=0.1, gamma=0.01, kernel=rbf;, score=0.527 total time=   1.3s\n",
            "[CV 4/5] END .....C=0.1, gamma=0.01, kernel=rbf;, score=0.527 total time=   1.3s\n",
            "[CV 5/5] END .....C=0.1, gamma=0.01, kernel=rbf;, score=0.527 total time=   1.3s\n",
            "[CV 1/5] END ....C=0.1, gamma=0.001, kernel=rbf;, score=0.527 total time=   1.3s\n",
            "[CV 2/5] END ....C=0.1, gamma=0.001, kernel=rbf;, score=0.527 total time=   1.3s\n",
            "[CV 3/5] END ....C=0.1, gamma=0.001, kernel=rbf;, score=0.527 total time=   1.3s\n",
            "[CV 4/5] END ....C=0.1, gamma=0.001, kernel=rbf;, score=0.527 total time=   1.3s\n",
            "[CV 5/5] END ....C=0.1, gamma=0.001, kernel=rbf;, score=0.527 total time=   1.3s\n",
            "[CV 1/5] END ...C=0.1, gamma=0.0001, kernel=rbf;, score=0.527 total time=   1.3s\n",
            "[CV 2/5] END ...C=0.1, gamma=0.0001, kernel=rbf;, score=0.527 total time=   1.3s\n",
            "[CV 3/5] END ...C=0.1, gamma=0.0001, kernel=rbf;, score=0.527 total time=   1.3s\n",
            "[CV 4/5] END ...C=0.1, gamma=0.0001, kernel=rbf;, score=0.527 total time=   1.3s\n",
            "[CV 5/5] END ...C=0.1, gamma=0.0001, kernel=rbf;, score=0.527 total time=   1.3s\n",
            "[CV 1/5] END ....C=0.1, gamma=1e-05, kernel=rbf;, score=0.527 total time=   1.9s\n",
            "[CV 2/5] END ....C=0.1, gamma=1e-05, kernel=rbf;, score=0.527 total time=   2.0s\n",
            "[CV 3/5] END ....C=0.1, gamma=1e-05, kernel=rbf;, score=0.527 total time=   2.2s\n",
            "[CV 4/5] END ....C=0.1, gamma=1e-05, kernel=rbf;, score=0.527 total time=   1.3s\n",
            "[CV 5/5] END ....C=0.1, gamma=1e-05, kernel=rbf;, score=0.527 total time=   1.3s\n",
            "[CV 1/5] END ....C=0.1, gamma=1e-05, kernel=rbf;, score=0.527 total time=   1.3s\n",
            "[CV 2/5] END ....C=0.1, gamma=1e-05, kernel=rbf;, score=0.527 total time=   1.3s\n",
            "[CV 3/5] END ....C=0.1, gamma=1e-05, kernel=rbf;, score=0.527 total time=   1.3s\n",
            "[CV 4/5] END ....C=0.1, gamma=1e-05, kernel=rbf;, score=0.527 total time=   1.4s\n",
            "[CV 5/5] END ....C=0.1, gamma=1e-05, kernel=rbf;, score=0.527 total time=   1.3s\n",
            "[CV 1/5] END ....C=0.1, gamma=1e-06, kernel=rbf;, score=0.527 total time=   1.3s\n",
            "[CV 2/5] END ....C=0.1, gamma=1e-06, kernel=rbf;, score=0.527 total time=   1.3s\n",
            "[CV 3/5] END ....C=0.1, gamma=1e-06, kernel=rbf;, score=0.527 total time=   1.3s\n",
            "[CV 4/5] END ....C=0.1, gamma=1e-06, kernel=rbf;, score=0.527 total time=   1.3s\n",
            "[CV 5/5] END ....C=0.1, gamma=1e-06, kernel=rbf;, score=0.527 total time=   1.3s\n",
            "[CV 1/5] END ........C=1, gamma=0.1, kernel=rbf;, score=0.527 total time=   1.4s\n",
            "[CV 2/5] END ........C=1, gamma=0.1, kernel=rbf;, score=0.527 total time=   1.4s\n",
            "[CV 3/5] END ........C=1, gamma=0.1, kernel=rbf;, score=0.527 total time=   1.3s\n",
            "[CV 4/5] END ........C=1, gamma=0.1, kernel=rbf;, score=0.527 total time=   1.4s\n",
            "[CV 5/5] END ........C=1, gamma=0.1, kernel=rbf;, score=0.527 total time=   1.5s\n",
            "[CV 1/5] END .......C=1, gamma=0.01, kernel=rbf;, score=0.527 total time=   1.4s\n",
            "[CV 2/5] END .......C=1, gamma=0.01, kernel=rbf;, score=0.527 total time=   1.4s\n",
            "[CV 3/5] END .......C=1, gamma=0.01, kernel=rbf;, score=0.527 total time=   1.4s\n",
            "[CV 4/5] END .......C=1, gamma=0.01, kernel=rbf;, score=0.527 total time=   1.4s\n",
            "[CV 5/5] END .......C=1, gamma=0.01, kernel=rbf;, score=0.527 total time=   1.3s\n",
            "[CV 1/5] END ......C=1, gamma=0.001, kernel=rbf;, score=0.527 total time=   1.4s\n",
            "[CV 2/5] END ......C=1, gamma=0.001, kernel=rbf;, score=0.527 total time=   1.3s\n",
            "[CV 3/5] END ......C=1, gamma=0.001, kernel=rbf;, score=0.527 total time=   1.3s\n",
            "[CV 4/5] END ......C=1, gamma=0.001, kernel=rbf;, score=0.527 total time=   1.4s\n",
            "[CV 5/5] END ......C=1, gamma=0.001, kernel=rbf;, score=0.527 total time=   1.4s\n",
            "[CV 1/5] END .....C=1, gamma=0.0001, kernel=rbf;, score=0.527 total time=   1.3s\n",
            "[CV 2/5] END .....C=1, gamma=0.0001, kernel=rbf;, score=0.527 total time=   1.4s\n",
            "[CV 3/5] END .....C=1, gamma=0.0001, kernel=rbf;, score=0.527 total time=   1.4s\n",
            "[CV 4/5] END .....C=1, gamma=0.0001, kernel=rbf;, score=0.527 total time=   1.4s\n",
            "[CV 5/5] END .....C=1, gamma=0.0001, kernel=rbf;, score=0.527 total time=   1.4s\n",
            "[CV 1/5] END ......C=1, gamma=1e-05, kernel=rbf;, score=0.527 total time=   1.3s\n",
            "[CV 2/5] END ......C=1, gamma=1e-05, kernel=rbf;, score=0.527 total time=   1.3s\n",
            "[CV 3/5] END ......C=1, gamma=1e-05, kernel=rbf;, score=0.527 total time=   1.4s\n",
            "[CV 4/5] END ......C=1, gamma=1e-05, kernel=rbf;, score=0.527 total time=   1.4s\n",
            "[CV 5/5] END ......C=1, gamma=1e-05, kernel=rbf;, score=0.527 total time=   1.3s\n",
            "[CV 1/5] END ......C=1, gamma=1e-05, kernel=rbf;, score=0.527 total time=   1.3s\n",
            "[CV 2/5] END ......C=1, gamma=1e-05, kernel=rbf;, score=0.527 total time=   1.3s\n",
            "[CV 3/5] END ......C=1, gamma=1e-05, kernel=rbf;, score=0.527 total time=   1.3s\n",
            "[CV 4/5] END ......C=1, gamma=1e-05, kernel=rbf;, score=0.527 total time=   1.3s\n",
            "[CV 5/5] END ......C=1, gamma=1e-05, kernel=rbf;, score=0.527 total time=   1.4s\n",
            "[CV 1/5] END ......C=1, gamma=1e-06, kernel=rbf;, score=0.527 total time=   1.4s\n",
            "[CV 2/5] END ......C=1, gamma=1e-06, kernel=rbf;, score=0.527 total time=   1.3s\n",
            "[CV 3/5] END ......C=1, gamma=1e-06, kernel=rbf;, score=0.527 total time=   1.3s\n",
            "[CV 4/5] END ......C=1, gamma=1e-06, kernel=rbf;, score=0.527 total time=   1.4s\n",
            "[CV 5/5] END ......C=1, gamma=1e-06, kernel=rbf;, score=0.527 total time=   1.3s\n",
            "[CV 1/5] END .......C=10, gamma=0.1, kernel=rbf;, score=0.546 total time=   1.5s\n",
            "[CV 2/5] END .......C=10, gamma=0.1, kernel=rbf;, score=0.546 total time=   1.4s\n",
            "[CV 3/5] END .......C=10, gamma=0.1, kernel=rbf;, score=0.542 total time=   1.4s\n",
            "[CV 4/5] END .......C=10, gamma=0.1, kernel=rbf;, score=0.539 total time=   1.4s\n",
            "[CV 5/5] END .......C=10, gamma=0.1, kernel=rbf;, score=0.539 total time=   1.5s\n",
            "[CV 1/5] END ......C=10, gamma=0.01, kernel=rbf;, score=0.527 total time=   1.4s\n",
            "[CV 2/5] END ......C=10, gamma=0.01, kernel=rbf;, score=0.527 total time=   1.5s\n",
            "[CV 3/5] END ......C=10, gamma=0.01, kernel=rbf;, score=0.527 total time=   1.5s\n",
            "[CV 4/5] END ......C=10, gamma=0.01, kernel=rbf;, score=0.527 total time=   1.4s\n",
            "[CV 5/5] END ......C=10, gamma=0.01, kernel=rbf;, score=0.527 total time=   1.4s\n",
            "[CV 1/5] END .....C=10, gamma=0.001, kernel=rbf;, score=0.527 total time=   1.5s\n",
            "[CV 2/5] END .....C=10, gamma=0.001, kernel=rbf;, score=0.527 total time=   1.4s\n",
            "[CV 3/5] END .....C=10, gamma=0.001, kernel=rbf;, score=0.527 total time=   1.4s\n",
            "[CV 4/5] END .....C=10, gamma=0.001, kernel=rbf;, score=0.527 total time=   1.4s\n",
            "[CV 5/5] END .....C=10, gamma=0.001, kernel=rbf;, score=0.527 total time=   1.5s\n",
            "[CV 1/5] END ....C=10, gamma=0.0001, kernel=rbf;, score=0.527 total time=   1.4s\n",
            "[CV 2/5] END ....C=10, gamma=0.0001, kernel=rbf;, score=0.527 total time=   1.5s\n",
            "[CV 3/5] END ....C=10, gamma=0.0001, kernel=rbf;, score=0.527 total time=   1.4s\n",
            "[CV 4/5] END ....C=10, gamma=0.0001, kernel=rbf;, score=0.527 total time=   1.3s\n",
            "[CV 5/5] END ....C=10, gamma=0.0001, kernel=rbf;, score=0.527 total time=   1.5s\n",
            "[CV 1/5] END .....C=10, gamma=1e-05, kernel=rbf;, score=0.527 total time=   1.3s\n",
            "[CV 2/5] END .....C=10, gamma=1e-05, kernel=rbf;, score=0.527 total time=   1.3s\n",
            "[CV 3/5] END .....C=10, gamma=1e-05, kernel=rbf;, score=0.527 total time=   1.3s\n",
            "[CV 4/5] END .....C=10, gamma=1e-05, kernel=rbf;, score=0.527 total time=   1.3s\n",
            "[CV 5/5] END .....C=10, gamma=1e-05, kernel=rbf;, score=0.527 total time=   1.3s\n",
            "[CV 1/5] END .....C=10, gamma=1e-05, kernel=rbf;, score=0.527 total time=   1.3s\n",
            "[CV 2/5] END .....C=10, gamma=1e-05, kernel=rbf;, score=0.527 total time=   1.3s\n",
            "[CV 3/5] END .....C=10, gamma=1e-05, kernel=rbf;, score=0.527 total time=   1.3s\n",
            "[CV 4/5] END .....C=10, gamma=1e-05, kernel=rbf;, score=0.527 total time=   1.3s\n",
            "[CV 5/5] END .....C=10, gamma=1e-05, kernel=rbf;, score=0.527 total time=   1.4s\n",
            "[CV 1/5] END .....C=10, gamma=1e-06, kernel=rbf;, score=0.527 total time=   1.3s\n",
            "[CV 2/5] END .....C=10, gamma=1e-06, kernel=rbf;, score=0.527 total time=   1.3s\n",
            "[CV 3/5] END .....C=10, gamma=1e-06, kernel=rbf;, score=0.527 total time=   1.4s\n",
            "[CV 4/5] END .....C=10, gamma=1e-06, kernel=rbf;, score=0.527 total time=   1.3s\n",
            "[CV 5/5] END .....C=10, gamma=1e-06, kernel=rbf;, score=0.527 total time=   1.3s\n",
            "[CV 1/5] END ......C=100, gamma=0.1, kernel=rbf;, score=0.607 total time=   1.5s\n",
            "[CV 2/5] END ......C=100, gamma=0.1, kernel=rbf;, score=0.611 total time=   1.4s\n",
            "[CV 3/5] END ......C=100, gamma=0.1, kernel=rbf;, score=0.621 total time=   1.5s\n",
            "[CV 4/5] END ......C=100, gamma=0.1, kernel=rbf;, score=0.603 total time=   1.5s\n",
            "[CV 5/5] END ......C=100, gamma=0.1, kernel=rbf;, score=0.616 total time=   1.4s\n",
            "[CV 1/5] END .....C=100, gamma=0.01, kernel=rbf;, score=0.551 total time=   1.5s\n",
            "[CV 2/5] END .....C=100, gamma=0.01, kernel=rbf;, score=0.554 total time=   1.4s\n",
            "[CV 3/5] END .....C=100, gamma=0.01, kernel=rbf;, score=0.553 total time=   1.5s\n",
            "[CV 4/5] END .....C=100, gamma=0.01, kernel=rbf;, score=0.551 total time=   1.5s\n",
            "[CV 5/5] END .....C=100, gamma=0.01, kernel=rbf;, score=0.548 total time=   1.8s\n",
            "[CV 1/5] END ....C=100, gamma=0.001, kernel=rbf;, score=0.527 total time=   1.9s\n",
            "[CV 2/5] END ....C=100, gamma=0.001, kernel=rbf;, score=0.527 total time=   1.5s\n",
            "[CV 3/5] END ....C=100, gamma=0.001, kernel=rbf;, score=0.527 total time=   1.6s\n",
            "[CV 4/5] END ....C=100, gamma=0.001, kernel=rbf;, score=0.527 total time=   1.5s\n",
            "[CV 5/5] END ....C=100, gamma=0.001, kernel=rbf;, score=0.527 total time=   1.6s\n",
            "[CV 1/5] END ...C=100, gamma=0.0001, kernel=rbf;, score=0.527 total time=   1.6s\n",
            "[CV 2/5] END ...C=100, gamma=0.0001, kernel=rbf;, score=0.527 total time=   1.5s\n",
            "[CV 3/5] END ...C=100, gamma=0.0001, kernel=rbf;, score=0.527 total time=   1.5s\n",
            "[CV 4/5] END ...C=100, gamma=0.0001, kernel=rbf;, score=0.527 total time=   1.5s\n",
            "[CV 5/5] END ...C=100, gamma=0.0001, kernel=rbf;, score=0.527 total time=   1.5s\n",
            "[CV 1/5] END ....C=100, gamma=1e-05, kernel=rbf;, score=0.527 total time=   1.5s\n",
            "[CV 2/5] END ....C=100, gamma=1e-05, kernel=rbf;, score=0.527 total time=   1.5s\n",
            "[CV 3/5] END ....C=100, gamma=1e-05, kernel=rbf;, score=0.527 total time=   1.5s\n",
            "[CV 4/5] END ....C=100, gamma=1e-05, kernel=rbf;, score=0.527 total time=   1.5s\n",
            "[CV 5/5] END ....C=100, gamma=1e-05, kernel=rbf;, score=0.527 total time=   1.5s\n",
            "[CV 1/5] END ....C=100, gamma=1e-05, kernel=rbf;, score=0.527 total time=   1.5s\n",
            "[CV 2/5] END ....C=100, gamma=1e-05, kernel=rbf;, score=0.527 total time=   1.5s\n",
            "[CV 3/5] END ....C=100, gamma=1e-05, kernel=rbf;, score=0.527 total time=   1.5s\n",
            "[CV 4/5] END ....C=100, gamma=1e-05, kernel=rbf;, score=0.527 total time=   1.5s\n",
            "[CV 5/5] END ....C=100, gamma=1e-05, kernel=rbf;, score=0.527 total time=   1.5s\n",
            "[CV 1/5] END ....C=100, gamma=1e-06, kernel=rbf;, score=0.527 total time=   1.3s\n",
            "[CV 2/5] END ....C=100, gamma=1e-06, kernel=rbf;, score=0.527 total time=   1.3s\n",
            "[CV 3/5] END ....C=100, gamma=1e-06, kernel=rbf;, score=0.527 total time=   1.3s\n",
            "[CV 4/5] END ....C=100, gamma=1e-06, kernel=rbf;, score=0.527 total time=   1.3s\n",
            "[CV 5/5] END ....C=100, gamma=1e-06, kernel=rbf;, score=0.527 total time=   1.3s\n",
            "[CV 1/5] END .....C=1000, gamma=0.1, kernel=rbf;, score=0.676 total time=   1.4s\n",
            "[CV 2/5] END .....C=1000, gamma=0.1, kernel=rbf;, score=0.690 total time=   1.4s\n",
            "[CV 3/5] END .....C=1000, gamma=0.1, kernel=rbf;, score=0.681 total time=   1.4s\n",
            "[CV 4/5] END .....C=1000, gamma=0.1, kernel=rbf;, score=0.670 total time=   1.4s\n",
            "[CV 5/5] END .....C=1000, gamma=0.1, kernel=rbf;, score=0.683 total time=   1.3s\n",
            "[CV 1/5] END ....C=1000, gamma=0.01, kernel=rbf;, score=0.617 total time=   1.4s\n",
            "[CV 2/5] END ....C=1000, gamma=0.01, kernel=rbf;, score=0.624 total time=   1.5s\n",
            "[CV 3/5] END ....C=1000, gamma=0.01, kernel=rbf;, score=0.621 total time=   1.4s\n",
            "[CV 4/5] END ....C=1000, gamma=0.01, kernel=rbf;, score=0.608 total time=   1.5s\n",
            "[CV 5/5] END ....C=1000, gamma=0.01, kernel=rbf;, score=0.627 total time=   1.4s\n",
            "[CV 1/5] END ...C=1000, gamma=0.001, kernel=rbf;, score=0.553 total time=   1.6s\n",
            "[CV 2/5] END ...C=1000, gamma=0.001, kernel=rbf;, score=0.555 total time=   1.5s\n",
            "[CV 3/5] END ...C=1000, gamma=0.001, kernel=rbf;, score=0.557 total time=   1.7s\n",
            "[CV 4/5] END ...C=1000, gamma=0.001, kernel=rbf;, score=0.551 total time=   1.6s\n",
            "[CV 5/5] END ...C=1000, gamma=0.001, kernel=rbf;, score=0.551 total time=   1.5s\n",
            "[CV 1/5] END ..C=1000, gamma=0.0001, kernel=rbf;, score=0.527 total time=   1.7s\n",
            "[CV 2/5] END ..C=1000, gamma=0.0001, kernel=rbf;, score=0.527 total time=   1.7s\n",
            "[CV 3/5] END ..C=1000, gamma=0.0001, kernel=rbf;, score=0.527 total time=   1.6s\n",
            "[CV 4/5] END ..C=1000, gamma=0.0001, kernel=rbf;, score=0.527 total time=   1.5s\n",
            "[CV 5/5] END ..C=1000, gamma=0.0001, kernel=rbf;, score=0.527 total time=   1.7s\n",
            "[CV 1/5] END ...C=1000, gamma=1e-05, kernel=rbf;, score=0.527 total time=   1.6s\n",
            "[CV 2/5] END ...C=1000, gamma=1e-05, kernel=rbf;, score=0.527 total time=   1.7s\n",
            "[CV 3/5] END ...C=1000, gamma=1e-05, kernel=rbf;, score=0.527 total time=   1.7s\n",
            "[CV 4/5] END ...C=1000, gamma=1e-05, kernel=rbf;, score=0.527 total time=   1.7s\n",
            "[CV 5/5] END ...C=1000, gamma=1e-05, kernel=rbf;, score=0.527 total time=   1.5s\n",
            "[CV 1/5] END ...C=1000, gamma=1e-05, kernel=rbf;, score=0.527 total time=   1.5s\n",
            "[CV 2/5] END ...C=1000, gamma=1e-05, kernel=rbf;, score=0.527 total time=   1.7s\n",
            "[CV 3/5] END ...C=1000, gamma=1e-05, kernel=rbf;, score=0.527 total time=   1.7s\n",
            "[CV 4/5] END ...C=1000, gamma=1e-05, kernel=rbf;, score=0.527 total time=   1.7s\n",
            "[CV 5/5] END ...C=1000, gamma=1e-05, kernel=rbf;, score=0.527 total time=   1.5s\n",
            "[CV 1/5] END ...C=1000, gamma=1e-06, kernel=rbf;, score=0.527 total time=   1.4s\n",
            "[CV 2/5] END ...C=1000, gamma=1e-06, kernel=rbf;, score=0.527 total time=   1.4s\n",
            "[CV 3/5] END ...C=1000, gamma=1e-06, kernel=rbf;, score=0.527 total time=   1.4s\n",
            "[CV 4/5] END ...C=1000, gamma=1e-06, kernel=rbf;, score=0.527 total time=   1.4s\n",
            "[CV 5/5] END ...C=1000, gamma=1e-06, kernel=rbf;, score=0.527 total time=   1.4s\n",
            "[CV 1/5] END ....C=10000, gamma=0.1, kernel=rbf;, score=0.722 total time=   1.5s\n",
            "[CV 2/5] END ....C=10000, gamma=0.1, kernel=rbf;, score=0.729 total time=   1.5s\n",
            "[CV 3/5] END ....C=10000, gamma=0.1, kernel=rbf;, score=0.722 total time=   1.5s\n",
            "[CV 4/5] END ....C=10000, gamma=0.1, kernel=rbf;, score=0.707 total time=   1.5s\n",
            "[CV 5/5] END ....C=10000, gamma=0.1, kernel=rbf;, score=0.717 total time=   1.4s\n",
            "[CV 1/5] END ...C=10000, gamma=0.01, kernel=rbf;, score=0.670 total time=   1.8s\n",
            "[CV 2/5] END ...C=10000, gamma=0.01, kernel=rbf;, score=0.678 total time=   1.7s\n",
            "[CV 3/5] END ...C=10000, gamma=0.01, kernel=rbf;, score=0.674 total time=   1.8s\n",
            "[CV 4/5] END ...C=10000, gamma=0.01, kernel=rbf;, score=0.664 total time=   1.7s\n",
            "[CV 5/5] END ...C=10000, gamma=0.01, kernel=rbf;, score=0.678 total time=   1.6s\n",
            "[CV 1/5] END ..C=10000, gamma=0.001, kernel=rbf;, score=0.611 total time=   1.5s\n",
            "[CV 2/5] END ..C=10000, gamma=0.001, kernel=rbf;, score=0.618 total time=   1.7s\n",
            "[CV 3/5] END ..C=10000, gamma=0.001, kernel=rbf;, score=0.617 total time=   1.7s\n",
            "[CV 4/5] END ..C=10000, gamma=0.001, kernel=rbf;, score=0.606 total time=   1.5s\n",
            "[CV 5/5] END ..C=10000, gamma=0.001, kernel=rbf;, score=0.615 total time=   1.5s\n",
            "[CV 1/5] END .C=10000, gamma=0.0001, kernel=rbf;, score=0.552 total time=   1.7s\n",
            "[CV 2/5] END .C=10000, gamma=0.0001, kernel=rbf;, score=0.555 total time=   1.6s\n",
            "[CV 3/5] END .C=10000, gamma=0.0001, kernel=rbf;, score=0.556 total time=   1.6s\n",
            "[CV 4/5] END .C=10000, gamma=0.0001, kernel=rbf;, score=0.551 total time=   1.5s\n",
            "[CV 5/5] END .C=10000, gamma=0.0001, kernel=rbf;, score=0.551 total time=   1.6s\n",
            "[CV 1/5] END ..C=10000, gamma=1e-05, kernel=rbf;, score=0.527 total time=   1.6s\n",
            "[CV 2/5] END ..C=10000, gamma=1e-05, kernel=rbf;, score=0.527 total time=   1.7s\n",
            "[CV 3/5] END ..C=10000, gamma=1e-05, kernel=rbf;, score=0.527 total time=   1.6s\n",
            "[CV 4/5] END ..C=10000, gamma=1e-05, kernel=rbf;, score=0.527 total time=   1.6s\n",
            "[CV 5/5] END ..C=10000, gamma=1e-05, kernel=rbf;, score=0.527 total time=   1.6s\n",
            "[CV 1/5] END ..C=10000, gamma=1e-05, kernel=rbf;, score=0.527 total time=   1.6s\n",
            "[CV 2/5] END ..C=10000, gamma=1e-05, kernel=rbf;, score=0.527 total time=   1.8s\n",
            "[CV 3/5] END ..C=10000, gamma=1e-05, kernel=rbf;, score=0.527 total time=   1.5s\n",
            "[CV 4/5] END ..C=10000, gamma=1e-05, kernel=rbf;, score=0.527 total time=   1.6s\n",
            "[CV 5/5] END ..C=10000, gamma=1e-05, kernel=rbf;, score=0.527 total time=   1.6s\n",
            "[CV 1/5] END ..C=10000, gamma=1e-06, kernel=rbf;, score=0.527 total time=   1.4s\n",
            "[CV 2/5] END ..C=10000, gamma=1e-06, kernel=rbf;, score=0.527 total time=   1.4s\n",
            "[CV 3/5] END ..C=10000, gamma=1e-06, kernel=rbf;, score=0.527 total time=   1.4s\n",
            "[CV 4/5] END ..C=10000, gamma=1e-06, kernel=rbf;, score=0.527 total time=   1.4s\n",
            "[CV 5/5] END ..C=10000, gamma=1e-06, kernel=rbf;, score=0.527 total time=   1.5s\n",
            "[CV 1/5] END ...C=100000, gamma=0.1, kernel=rbf;, score=0.871 total time=   1.7s\n",
            "[CV 2/5] END ...C=100000, gamma=0.1, kernel=rbf;, score=0.886 total time=   1.7s\n",
            "[CV 3/5] END ...C=100000, gamma=0.1, kernel=rbf;, score=0.894 total time=   1.6s\n",
            "[CV 4/5] END ...C=100000, gamma=0.1, kernel=rbf;, score=0.846 total time=   1.7s\n",
            "[CV 5/5] END ...C=100000, gamma=0.1, kernel=rbf;, score=0.878 total time=   1.5s\n",
            "[CV 1/5] END ..C=100000, gamma=0.01, kernel=rbf;, score=0.716 total time=   2.0s\n",
            "[CV 2/5] END ..C=100000, gamma=0.01, kernel=rbf;, score=0.729 total time=   2.3s\n",
            "[CV 3/5] END ..C=100000, gamma=0.01, kernel=rbf;, score=0.719 total time=   2.0s\n",
            "[CV 4/5] END ..C=100000, gamma=0.01, kernel=rbf;, score=0.701 total time=   1.9s\n",
            "[CV 5/5] END ..C=100000, gamma=0.01, kernel=rbf;, score=0.718 total time=   2.0s\n",
            "[CV 1/5] END .C=100000, gamma=0.001, kernel=rbf;, score=0.667 total time=   1.9s\n",
            "[CV 2/5] END .C=100000, gamma=0.001, kernel=rbf;, score=0.677 total time=   1.5s\n",
            "[CV 3/5] END .C=100000, gamma=0.001, kernel=rbf;, score=0.671 total time=   1.8s\n",
            "[CV 4/5] END .C=100000, gamma=0.001, kernel=rbf;, score=0.662 total time=   1.5s\n",
            "[CV 5/5] END .C=100000, gamma=0.001, kernel=rbf;, score=0.678 total time=   1.8s\n",
            "[CV 1/5] END C=100000, gamma=0.0001, kernel=rbf;, score=0.611 total time=   1.5s\n",
            "[CV 2/5] END C=100000, gamma=0.0001, kernel=rbf;, score=0.617 total time=   1.7s\n",
            "[CV 3/5] END C=100000, gamma=0.0001, kernel=rbf;, score=0.615 total time=   1.6s\n",
            "[CV 4/5] END C=100000, gamma=0.0001, kernel=rbf;, score=0.605 total time=   1.6s\n",
            "[CV 5/5] END C=100000, gamma=0.0001, kernel=rbf;, score=0.617 total time=   2.4s\n",
            "[CV 1/5] END .C=100000, gamma=1e-05, kernel=rbf;, score=0.554 total time=   1.6s\n",
            "[CV 2/5] END .C=100000, gamma=1e-05, kernel=rbf;, score=0.555 total time=   1.6s\n",
            "[CV 3/5] END .C=100000, gamma=1e-05, kernel=rbf;, score=0.557 total time=   1.8s\n",
            "[CV 4/5] END .C=100000, gamma=1e-05, kernel=rbf;, score=0.552 total time=   1.6s\n",
            "[CV 5/5] END .C=100000, gamma=1e-05, kernel=rbf;, score=0.553 total time=   1.7s\n",
            "[CV 1/5] END .C=100000, gamma=1e-05, kernel=rbf;, score=0.554 total time=   1.6s\n",
            "[CV 2/5] END .C=100000, gamma=1e-05, kernel=rbf;, score=0.555 total time=   1.6s\n",
            "[CV 3/5] END .C=100000, gamma=1e-05, kernel=rbf;, score=0.557 total time=   1.8s\n",
            "[CV 4/5] END .C=100000, gamma=1e-05, kernel=rbf;, score=0.552 total time=   1.6s\n",
            "[CV 5/5] END .C=100000, gamma=1e-05, kernel=rbf;, score=0.553 total time=   1.7s\n",
            "[CV 1/5] END .C=100000, gamma=1e-06, kernel=rbf;, score=0.527 total time=   1.4s\n",
            "[CV 2/5] END .C=100000, gamma=1e-06, kernel=rbf;, score=0.527 total time=   1.5s\n",
            "[CV 3/5] END .C=100000, gamma=1e-06, kernel=rbf;, score=0.527 total time=   1.5s\n",
            "[CV 4/5] END .C=100000, gamma=1e-06, kernel=rbf;, score=0.527 total time=   1.5s\n",
            "[CV 5/5] END .C=100000, gamma=1e-06, kernel=rbf;, score=0.527 total time=   1.4s\n"
          ]
        },
        {
          "output_type": "execute_result",
          "data": {
            "text/plain": [
              "GridSearchCV(estimator=SVC(),\n",
              "             param_grid={'C': [0.001, 0.1, 1, 10, 100, 1000, 10000, 100000],\n",
              "                         'gamma': [0.1, 0.01, 0.001, 0.0001, 1e-05, 1e-05,\n",
              "                                   1e-06],\n",
              "                         'kernel': ['rbf']},\n",
              "             verbose=3)"
            ]
          },
          "metadata": {},
          "execution_count": 280
        }
      ]
    },
    {
      "cell_type": "code",
      "source": [
        "predict_svm = grid.predict(X_test)\n",
        "\n",
        "print(classification_report(y_test,predict_svm))\n",
        "print(confusion_matrix(y_test,predict_svm))"
      ],
      "metadata": {
        "colab": {
          "base_uri": "https://localhost:8080/"
        },
        "id": "5L3Qs6P6gCWW",
        "outputId": "71e5af13-7a68-4c6d-dce7-50bb49346ea8"
      },
      "execution_count": 282,
      "outputs": [
        {
          "output_type": "stream",
          "name": "stdout",
          "text": [
            "              precision    recall  f1-score   support\n",
            "\n",
            "           0       0.82      0.99      0.90      1800\n",
            "           1       0.99      0.76      0.86      1685\n",
            "\n",
            "    accuracy                           0.88      3485\n",
            "   macro avg       0.90      0.88      0.88      3485\n",
            "weighted avg       0.90      0.88      0.88      3485\n",
            "\n",
            "[[1790   10]\n",
            " [ 401 1284]]\n"
          ]
        }
      ]
    },
    {
      "cell_type": "code",
      "source": [
        "grid.best_estimator_"
      ],
      "metadata": {
        "colab": {
          "base_uri": "https://localhost:8080/"
        },
        "id": "iuZ_Ux-1gG1w",
        "outputId": "2ffb843d-0e14-40f4-a40e-2a83086e9f1b"
      },
      "execution_count": 283,
      "outputs": [
        {
          "output_type": "execute_result",
          "data": {
            "text/plain": [
              "SVC(C=100000, gamma=0.1)"
            ]
          },
          "metadata": {},
          "execution_count": 283
        }
      ]
    },
    {
      "cell_type": "code",
      "source": [
        "grid.best_score_"
      ],
      "metadata": {
        "colab": {
          "base_uri": "https://localhost:8080/"
        },
        "id": "ehHEqVWngH81",
        "outputId": "916b12e3-0df7-4ccd-abf5-6d117a1500fa"
      },
      "execution_count": 284,
      "outputs": [
        {
          "output_type": "execute_result",
          "data": {
            "text/plain": [
              "0.875035810496749"
            ]
          },
          "metadata": {},
          "execution_count": 284
        }
      ]
    },
    {
      "cell_type": "markdown",
      "source": [
        "Kesimpulan:\n",
        "Hasil prediksi dari SVM lebih tinggi dari model KNN"
      ],
      "metadata": {
        "id": "6oyIzQg7jcGh"
      }
    }
  ]
}